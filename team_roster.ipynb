{
 "metadata": {
  "language_info": {
   "codemirror_mode": {
    "name": "ipython",
    "version": 3
   },
   "file_extension": ".py",
   "mimetype": "text/x-python",
   "name": "python",
   "nbconvert_exporter": "python",
   "pygments_lexer": "ipython3",
   "version": "3.6.10-final"
  },
  "orig_nbformat": 2,
  "kernelspec": {
   "name": "python3",
   "display_name": "Python 3.6.10 64-bit ('PythonData': conda)",
   "metadata": {
    "interpreter": {
     "hash": "39cf81ff75551f3ea7268a5731633db08a0e59f6bdbd7d1519c41c672b5e67ae"
    }
   }
  }
 },
 "nbformat": 4,
 "nbformat_minor": 2,
 "cells": [
  {
   "cell_type": "code",
   "execution_count": null,
   "metadata": {},
   "outputs": [],
   "source": [
    "import pandas as pd"
   ]
  },
  {
   "cell_type": "code",
   "execution_count": null,
   "metadata": {},
   "outputs": [],
   "source": [
    "# build url to loop through years\n",
    "range = [2005,2006,2007,2008,2009,2010,2011,2012,2013,2014,2015]\n",
    "base_url = 'https://www.basketball-reference.com/teams/SAS/'\n",
    "year = '2005'\n",
    "url = base_url + year + '.html'\n",
    "print(url)"
   ]
  },
  {
   "cell_type": "code",
   "execution_count": null,
   "metadata": {},
   "outputs": [],
   "source": [
    "# read only the first table\n",
    "table = pd.read_html(url)\n",
    "table"
   ]
  },
  {
   "cell_type": "code",
   "execution_count": null,
   "metadata": {},
   "outputs": [],
   "source": [
    "# testing for loop to get roster by year.  manually select team and years to loop through\n",
    "range = [2005,2007,2014]\n",
    "sas_roster = pd.DataFrame()\n",
    "for year in range:\n",
    "    print(year)\n",
    "    url = base_url + str(year) + '.html'\n",
    "    table = pd.read_html(url)\n",
    "    roster = table[0]\n",
    "    roster['Year'] = year\n",
    "    roster['Team'] = 'San Antonio Spurs'\n",
    "    sas_roster = sas_roster.append(roster)\n",
    "\n",
    "sas_roster\n",
    "\n",
    "\n",
    "# sas_2005 = table[0]\n",
    "# sas_2005['Year'] = 2005\n",
    "# sas_2005['Team'] = \"San Antonio Spurs\"\n",
    "# sas_2005"
   ]
  },
  {
   "cell_type": "code",
   "execution_count": null,
   "metadata": {},
   "outputs": [],
   "source": []
  },
  {
   "cell_type": "code",
   "execution_count": 85,
   "metadata": {},
   "outputs": [
    {
     "output_type": "execute_result",
     "data": {
      "text/plain": [
       "     No.                Player Pos    Ht   Wt          Birth Date Nationality  \\\n",
       "175   34      Shaun Livingston  PG   6-7  192  September 11, 1985          us   \n",
       "176   20  James Michael McAdoo  PF   6-9  230     January 4, 1993          us   \n",
       "177    4          Brandon Rush  SG   6-6  220        July 7, 1985          us   \n",
       "178    5     Marreese Speights   C  6-10  255      August 4, 1987          us   \n",
       "179   11         Klay Thompson  SG   6-6  215    February 8, 1990          us   \n",
       "\n",
       "    Exp           College  Year Team Result  \n",
       "175   9               NaN  2015  GSW    win  \n",
       "176   R               UNC  2015  GSW    win  \n",
       "177   6            Kansas  2015  GSW    win  \n",
       "178   6           Florida  2015  GSW    win  \n",
       "179   3  Washington State  2015  GSW    win  "
      ],
      "text/html": "<div>\n<style scoped>\n    .dataframe tbody tr th:only-of-type {\n        vertical-align: middle;\n    }\n\n    .dataframe tbody tr th {\n        vertical-align: top;\n    }\n\n    .dataframe thead th {\n        text-align: right;\n    }\n</style>\n<table border=\"1\" class=\"dataframe\">\n  <thead>\n    <tr style=\"text-align: right;\">\n      <th></th>\n      <th>No.</th>\n      <th>Player</th>\n      <th>Pos</th>\n      <th>Ht</th>\n      <th>Wt</th>\n      <th>Birth Date</th>\n      <th>Nationality</th>\n      <th>Exp</th>\n      <th>College</th>\n      <th>Year</th>\n      <th>Team</th>\n      <th>Result</th>\n    </tr>\n  </thead>\n  <tbody>\n    <tr>\n      <th>175</th>\n      <td>34</td>\n      <td>Shaun Livingston</td>\n      <td>PG</td>\n      <td>6-7</td>\n      <td>192</td>\n      <td>September 11, 1985</td>\n      <td>us</td>\n      <td>9</td>\n      <td>NaN</td>\n      <td>2015</td>\n      <td>GSW</td>\n      <td>win</td>\n    </tr>\n    <tr>\n      <th>176</th>\n      <td>20</td>\n      <td>James Michael McAdoo</td>\n      <td>PF</td>\n      <td>6-9</td>\n      <td>230</td>\n      <td>January 4, 1993</td>\n      <td>us</td>\n      <td>R</td>\n      <td>UNC</td>\n      <td>2015</td>\n      <td>GSW</td>\n      <td>win</td>\n    </tr>\n    <tr>\n      <th>177</th>\n      <td>4</td>\n      <td>Brandon Rush</td>\n      <td>SG</td>\n      <td>6-6</td>\n      <td>220</td>\n      <td>July 7, 1985</td>\n      <td>us</td>\n      <td>6</td>\n      <td>Kansas</td>\n      <td>2015</td>\n      <td>GSW</td>\n      <td>win</td>\n    </tr>\n    <tr>\n      <th>178</th>\n      <td>5</td>\n      <td>Marreese Speights</td>\n      <td>C</td>\n      <td>6-10</td>\n      <td>255</td>\n      <td>August 4, 1987</td>\n      <td>us</td>\n      <td>6</td>\n      <td>Florida</td>\n      <td>2015</td>\n      <td>GSW</td>\n      <td>win</td>\n    </tr>\n    <tr>\n      <th>179</th>\n      <td>11</td>\n      <td>Klay Thompson</td>\n      <td>SG</td>\n      <td>6-6</td>\n      <td>215</td>\n      <td>February 8, 1990</td>\n      <td>us</td>\n      <td>3</td>\n      <td>Washington State</td>\n      <td>2015</td>\n      <td>GSW</td>\n      <td>win</td>\n    </tr>\n  </tbody>\n</table>\n</div>"
     },
     "metadata": {},
     "execution_count": 85
    }
   ],
   "source": [
    "# iterate through dictionary of Finals winners (2005-2015), scrape data from web and build a DataFrame of roster for all 10 years\n",
    "winners = {2005: 'SAS', 2006: 'MIA',2007: 'SAS',2008: 'BOS',2009: 'LAL',2010: 'LAL',2011: 'DAL',2012: 'MIA',2013: 'MIA',2014:'SAS',2015: 'GSW'}\n",
    "base_url = 'https://www.basketball-reference.com/teams/'\n",
    "winners_roster = pd.DataFrame()\n",
    "for key, value in winners.items():\n",
    "    # print(year)\n",
    "    url = base_url + value + '/' + str(key) + '.html'\n",
    "    table = pd.read_html(url)\n",
    "    roster = table[0]\n",
    "    roster['Year'] = key\n",
    "    roster['Team'] = value\n",
    "    roster['Result'] = 'win'\n",
    "    winners_roster = winners_roster.append(roster)\n",
    "\n",
    "winners_roster = winners_roster.rename(columns={'Unnamed: 6': 'Nationality'})\n",
    "winners_roster.reset_index(drop=True, inplace=True)\n",
    "\n",
    "winners_roster.tail()    "
   ]
  },
  {
   "cell_type": "code",
   "execution_count": 87,
   "metadata": {},
   "outputs": [
    {
     "output_type": "execute_result",
     "data": {
      "text/plain": [
       "     No.            Player Pos    Ht   Wt          Birth Date Nationality Exp  \\\n",
       "185    4     Iman Shumpert  SG   6-5  215       June 26, 1990          us   3   \n",
       "186    5        J.R. Smith  SG   6-6  225   September 9, 1985          us  10   \n",
       "187   13  Tristan Thompson  PF   6-9  254      March 13, 1991          ca   3   \n",
       "188   17  Anderson Varejão   C  6-10  273  September 28, 1982          br  10   \n",
       "189    3      Dion Waiters  SG   6-3  215   December 10, 1991          us   2   \n",
       "\n",
       "          College  Year Team Result  \n",
       "185  Georgia Tech  2015  CLE   lost  \n",
       "186           NaN  2015  CLE   lost  \n",
       "187         Texas  2015  CLE   lost  \n",
       "188           NaN  2015  CLE   lost  \n",
       "189      Syracuse  2015  CLE   lost  "
      ],
      "text/html": "<div>\n<style scoped>\n    .dataframe tbody tr th:only-of-type {\n        vertical-align: middle;\n    }\n\n    .dataframe tbody tr th {\n        vertical-align: top;\n    }\n\n    .dataframe thead th {\n        text-align: right;\n    }\n</style>\n<table border=\"1\" class=\"dataframe\">\n  <thead>\n    <tr style=\"text-align: right;\">\n      <th></th>\n      <th>No.</th>\n      <th>Player</th>\n      <th>Pos</th>\n      <th>Ht</th>\n      <th>Wt</th>\n      <th>Birth Date</th>\n      <th>Nationality</th>\n      <th>Exp</th>\n      <th>College</th>\n      <th>Year</th>\n      <th>Team</th>\n      <th>Result</th>\n    </tr>\n  </thead>\n  <tbody>\n    <tr>\n      <th>185</th>\n      <td>4</td>\n      <td>Iman Shumpert</td>\n      <td>SG</td>\n      <td>6-5</td>\n      <td>215</td>\n      <td>June 26, 1990</td>\n      <td>us</td>\n      <td>3</td>\n      <td>Georgia Tech</td>\n      <td>2015</td>\n      <td>CLE</td>\n      <td>lost</td>\n    </tr>\n    <tr>\n      <th>186</th>\n      <td>5</td>\n      <td>J.R. Smith</td>\n      <td>SG</td>\n      <td>6-6</td>\n      <td>225</td>\n      <td>September 9, 1985</td>\n      <td>us</td>\n      <td>10</td>\n      <td>NaN</td>\n      <td>2015</td>\n      <td>CLE</td>\n      <td>lost</td>\n    </tr>\n    <tr>\n      <th>187</th>\n      <td>13</td>\n      <td>Tristan Thompson</td>\n      <td>PF</td>\n      <td>6-9</td>\n      <td>254</td>\n      <td>March 13, 1991</td>\n      <td>ca</td>\n      <td>3</td>\n      <td>Texas</td>\n      <td>2015</td>\n      <td>CLE</td>\n      <td>lost</td>\n    </tr>\n    <tr>\n      <th>188</th>\n      <td>17</td>\n      <td>Anderson Varejão</td>\n      <td>C</td>\n      <td>6-10</td>\n      <td>273</td>\n      <td>September 28, 1982</td>\n      <td>br</td>\n      <td>10</td>\n      <td>NaN</td>\n      <td>2015</td>\n      <td>CLE</td>\n      <td>lost</td>\n    </tr>\n    <tr>\n      <th>189</th>\n      <td>3</td>\n      <td>Dion Waiters</td>\n      <td>SG</td>\n      <td>6-3</td>\n      <td>215</td>\n      <td>December 10, 1991</td>\n      <td>us</td>\n      <td>2</td>\n      <td>Syracuse</td>\n      <td>2015</td>\n      <td>CLE</td>\n      <td>lost</td>\n    </tr>\n  </tbody>\n</table>\n</div>"
     },
     "metadata": {},
     "execution_count": 87
    }
   ],
   "source": [
    "# iterate through dictionary of Finals losers (2005-2015), scrape data from web and build a DataFrame of roster for all 10 years\n",
    "losers = {2005: 'DET', 2006: 'DAL',2007: 'CLE',2008: 'LAL',2009: 'ORL',2010: 'BOS',2011: 'MIA',2012: 'OKC',2013: 'SAS',2014:'MIA',2015: 'CLE'}\n",
    "base_url = 'https://www.basketball-reference.com/teams/'\n",
    "losers_roster = pd.DataFrame()\n",
    "for key, value in losers.items():\n",
    "    # print(year)\n",
    "    url = base_url + value + '/' + str(key) + '.html'\n",
    "    table = pd.read_html(url)\n",
    "    roster = table[0]\n",
    "    roster['Year'] = key\n",
    "    roster['Team'] = value\n",
    "    roster['Result'] = 'lost'\n",
    "    losers_roster = losers_roster.append(roster)\n",
    "\n",
    "losers_roster = losers_roster.rename(columns={'Unnamed: 6': 'Nationality'})\n",
    "losers_roster.reset_index(drop=True, inplace=True)\n",
    "\n",
    "losers_roster.tail()    "
   ]
  },
  {
   "cell_type": "code",
   "execution_count": 88,
   "metadata": {},
   "outputs": [
    {
     "output_type": "execute_result",
     "data": {
      "text/plain": [
       "     No.            Player Pos    Ht   Wt          Birth Date Nationality Exp  \\\n",
       "0     30     Carlos Arroyo  PG   6-2  202       July 30, 1979          pr   3   \n",
       "1      1  Chauncey Billups  PG   6-3  202  September 25, 1976          us   7   \n",
       "2     41    Elden Campbell   C  6-11  215       July 23, 1968          us  14   \n",
       "3     44   Derrick Coleman   C  6-10  230       June 21, 1967          us  14   \n",
       "4     20    Carlos Delfino  SG   6-6  230     August 29, 1982          ar   R   \n",
       "..   ...               ...  ..   ...  ...                 ...         ...  ..   \n",
       "185    4     Iman Shumpert  SG   6-5  215       June 26, 1990          us   3   \n",
       "186    5        J.R. Smith  SG   6-6  225   September 9, 1985          us  10   \n",
       "187   13  Tristan Thompson  PF   6-9  254      March 13, 1991          ca   3   \n",
       "188   17  Anderson Varejão   C  6-10  273  September 28, 1982          br  10   \n",
       "189    3      Dion Waiters  SG   6-3  215   December 10, 1991          us   2   \n",
       "\n",
       "                              College  Year Team Result  \n",
       "0    Florida International University  2005  DET   lost  \n",
       "1                            Colorado  2005  DET   lost  \n",
       "2                             Clemson  2005  DET   lost  \n",
       "3                            Syracuse  2005  DET   lost  \n",
       "4                                 NaN  2005  DET   lost  \n",
       "..                                ...   ...  ...    ...  \n",
       "185                      Georgia Tech  2015  CLE   lost  \n",
       "186                               NaN  2015  CLE   lost  \n",
       "187                             Texas  2015  CLE   lost  \n",
       "188                               NaN  2015  CLE   lost  \n",
       "189                          Syracuse  2015  CLE   lost  \n",
       "\n",
       "[190 rows x 12 columns]"
      ],
      "text/html": "<div>\n<style scoped>\n    .dataframe tbody tr th:only-of-type {\n        vertical-align: middle;\n    }\n\n    .dataframe tbody tr th {\n        vertical-align: top;\n    }\n\n    .dataframe thead th {\n        text-align: right;\n    }\n</style>\n<table border=\"1\" class=\"dataframe\">\n  <thead>\n    <tr style=\"text-align: right;\">\n      <th></th>\n      <th>No.</th>\n      <th>Player</th>\n      <th>Pos</th>\n      <th>Ht</th>\n      <th>Wt</th>\n      <th>Birth Date</th>\n      <th>Nationality</th>\n      <th>Exp</th>\n      <th>College</th>\n      <th>Year</th>\n      <th>Team</th>\n      <th>Result</th>\n    </tr>\n  </thead>\n  <tbody>\n    <tr>\n      <th>0</th>\n      <td>30</td>\n      <td>Carlos Arroyo</td>\n      <td>PG</td>\n      <td>6-2</td>\n      <td>202</td>\n      <td>July 30, 1979</td>\n      <td>pr</td>\n      <td>3</td>\n      <td>Florida International University</td>\n      <td>2005</td>\n      <td>DET</td>\n      <td>lost</td>\n    </tr>\n    <tr>\n      <th>1</th>\n      <td>1</td>\n      <td>Chauncey Billups</td>\n      <td>PG</td>\n      <td>6-3</td>\n      <td>202</td>\n      <td>September 25, 1976</td>\n      <td>us</td>\n      <td>7</td>\n      <td>Colorado</td>\n      <td>2005</td>\n      <td>DET</td>\n      <td>lost</td>\n    </tr>\n    <tr>\n      <th>2</th>\n      <td>41</td>\n      <td>Elden Campbell</td>\n      <td>C</td>\n      <td>6-11</td>\n      <td>215</td>\n      <td>July 23, 1968</td>\n      <td>us</td>\n      <td>14</td>\n      <td>Clemson</td>\n      <td>2005</td>\n      <td>DET</td>\n      <td>lost</td>\n    </tr>\n    <tr>\n      <th>3</th>\n      <td>44</td>\n      <td>Derrick Coleman</td>\n      <td>C</td>\n      <td>6-10</td>\n      <td>230</td>\n      <td>June 21, 1967</td>\n      <td>us</td>\n      <td>14</td>\n      <td>Syracuse</td>\n      <td>2005</td>\n      <td>DET</td>\n      <td>lost</td>\n    </tr>\n    <tr>\n      <th>4</th>\n      <td>20</td>\n      <td>Carlos Delfino</td>\n      <td>SG</td>\n      <td>6-6</td>\n      <td>230</td>\n      <td>August 29, 1982</td>\n      <td>ar</td>\n      <td>R</td>\n      <td>NaN</td>\n      <td>2005</td>\n      <td>DET</td>\n      <td>lost</td>\n    </tr>\n    <tr>\n      <th>...</th>\n      <td>...</td>\n      <td>...</td>\n      <td>...</td>\n      <td>...</td>\n      <td>...</td>\n      <td>...</td>\n      <td>...</td>\n      <td>...</td>\n      <td>...</td>\n      <td>...</td>\n      <td>...</td>\n      <td>...</td>\n    </tr>\n    <tr>\n      <th>185</th>\n      <td>4</td>\n      <td>Iman Shumpert</td>\n      <td>SG</td>\n      <td>6-5</td>\n      <td>215</td>\n      <td>June 26, 1990</td>\n      <td>us</td>\n      <td>3</td>\n      <td>Georgia Tech</td>\n      <td>2015</td>\n      <td>CLE</td>\n      <td>lost</td>\n    </tr>\n    <tr>\n      <th>186</th>\n      <td>5</td>\n      <td>J.R. Smith</td>\n      <td>SG</td>\n      <td>6-6</td>\n      <td>225</td>\n      <td>September 9, 1985</td>\n      <td>us</td>\n      <td>10</td>\n      <td>NaN</td>\n      <td>2015</td>\n      <td>CLE</td>\n      <td>lost</td>\n    </tr>\n    <tr>\n      <th>187</th>\n      <td>13</td>\n      <td>Tristan Thompson</td>\n      <td>PF</td>\n      <td>6-9</td>\n      <td>254</td>\n      <td>March 13, 1991</td>\n      <td>ca</td>\n      <td>3</td>\n      <td>Texas</td>\n      <td>2015</td>\n      <td>CLE</td>\n      <td>lost</td>\n    </tr>\n    <tr>\n      <th>188</th>\n      <td>17</td>\n      <td>Anderson Varejão</td>\n      <td>C</td>\n      <td>6-10</td>\n      <td>273</td>\n      <td>September 28, 1982</td>\n      <td>br</td>\n      <td>10</td>\n      <td>NaN</td>\n      <td>2015</td>\n      <td>CLE</td>\n      <td>lost</td>\n    </tr>\n    <tr>\n      <th>189</th>\n      <td>3</td>\n      <td>Dion Waiters</td>\n      <td>SG</td>\n      <td>6-3</td>\n      <td>215</td>\n      <td>December 10, 1991</td>\n      <td>us</td>\n      <td>2</td>\n      <td>Syracuse</td>\n      <td>2015</td>\n      <td>CLE</td>\n      <td>lost</td>\n    </tr>\n  </tbody>\n</table>\n<p>190 rows × 12 columns</p>\n</div>"
     },
     "metadata": {},
     "execution_count": 88
    }
   ],
   "source": [
    "losers_roster"
   ]
  },
  {
   "cell_type": "code",
   "execution_count": 89,
   "metadata": {},
   "outputs": [
    {
     "output_type": "execute_result",
     "data": {
      "text/plain": [
       "     No.                Player Pos    Ht   Wt          Birth Date Nationality  \\\n",
       "0     17           Brent Barry  SG   6-6  185   December 31, 1971          us   \n",
       "1     12           Bruce Bowen  SF   6-7  185       June 14, 1971          us   \n",
       "2     23           Devin Brown  SG   6-5  220   December 30, 1978          us   \n",
       "3     21            Tim Duncan  PF  6-11  250      April 25, 1976          vi   \n",
       "4     20         Manu Ginóbili  SG   6-6  205       July 28, 1977          ar   \n",
       "..   ...                   ...  ..   ...  ...                 ...         ...   \n",
       "175   34      Shaun Livingston  PG   6-7  192  September 11, 1985          us   \n",
       "176   20  James Michael McAdoo  PF   6-9  230     January 4, 1993          us   \n",
       "177    4          Brandon Rush  SG   6-6  220        July 7, 1985          us   \n",
       "178    5     Marreese Speights   C  6-10  255      August 4, 1987          us   \n",
       "179   11         Klay Thompson  SG   6-6  215    February 8, 1990          us   \n",
       "\n",
       "    Exp              College  Year Team Result  \n",
       "0     9         Oregon State  2005  SAS    win  \n",
       "1     8  Cal State Fullerton  2005  SAS    win  \n",
       "2     2    Texas-San Antonio  2005  SAS    win  \n",
       "3     7          Wake Forest  2005  SAS    win  \n",
       "4     2                  NaN  2005  SAS    win  \n",
       "..   ..                  ...   ...  ...    ...  \n",
       "175   9                  NaN  2015  GSW    win  \n",
       "176   R                  UNC  2015  GSW    win  \n",
       "177   6               Kansas  2015  GSW    win  \n",
       "178   6              Florida  2015  GSW    win  \n",
       "179   3     Washington State  2015  GSW    win  \n",
       "\n",
       "[180 rows x 12 columns]"
      ],
      "text/html": "<div>\n<style scoped>\n    .dataframe tbody tr th:only-of-type {\n        vertical-align: middle;\n    }\n\n    .dataframe tbody tr th {\n        vertical-align: top;\n    }\n\n    .dataframe thead th {\n        text-align: right;\n    }\n</style>\n<table border=\"1\" class=\"dataframe\">\n  <thead>\n    <tr style=\"text-align: right;\">\n      <th></th>\n      <th>No.</th>\n      <th>Player</th>\n      <th>Pos</th>\n      <th>Ht</th>\n      <th>Wt</th>\n      <th>Birth Date</th>\n      <th>Nationality</th>\n      <th>Exp</th>\n      <th>College</th>\n      <th>Year</th>\n      <th>Team</th>\n      <th>Result</th>\n    </tr>\n  </thead>\n  <tbody>\n    <tr>\n      <th>0</th>\n      <td>17</td>\n      <td>Brent Barry</td>\n      <td>SG</td>\n      <td>6-6</td>\n      <td>185</td>\n      <td>December 31, 1971</td>\n      <td>us</td>\n      <td>9</td>\n      <td>Oregon State</td>\n      <td>2005</td>\n      <td>SAS</td>\n      <td>win</td>\n    </tr>\n    <tr>\n      <th>1</th>\n      <td>12</td>\n      <td>Bruce Bowen</td>\n      <td>SF</td>\n      <td>6-7</td>\n      <td>185</td>\n      <td>June 14, 1971</td>\n      <td>us</td>\n      <td>8</td>\n      <td>Cal State Fullerton</td>\n      <td>2005</td>\n      <td>SAS</td>\n      <td>win</td>\n    </tr>\n    <tr>\n      <th>2</th>\n      <td>23</td>\n      <td>Devin Brown</td>\n      <td>SG</td>\n      <td>6-5</td>\n      <td>220</td>\n      <td>December 30, 1978</td>\n      <td>us</td>\n      <td>2</td>\n      <td>Texas-San Antonio</td>\n      <td>2005</td>\n      <td>SAS</td>\n      <td>win</td>\n    </tr>\n    <tr>\n      <th>3</th>\n      <td>21</td>\n      <td>Tim Duncan</td>\n      <td>PF</td>\n      <td>6-11</td>\n      <td>250</td>\n      <td>April 25, 1976</td>\n      <td>vi</td>\n      <td>7</td>\n      <td>Wake Forest</td>\n      <td>2005</td>\n      <td>SAS</td>\n      <td>win</td>\n    </tr>\n    <tr>\n      <th>4</th>\n      <td>20</td>\n      <td>Manu Ginóbili</td>\n      <td>SG</td>\n      <td>6-6</td>\n      <td>205</td>\n      <td>July 28, 1977</td>\n      <td>ar</td>\n      <td>2</td>\n      <td>NaN</td>\n      <td>2005</td>\n      <td>SAS</td>\n      <td>win</td>\n    </tr>\n    <tr>\n      <th>...</th>\n      <td>...</td>\n      <td>...</td>\n      <td>...</td>\n      <td>...</td>\n      <td>...</td>\n      <td>...</td>\n      <td>...</td>\n      <td>...</td>\n      <td>...</td>\n      <td>...</td>\n      <td>...</td>\n      <td>...</td>\n    </tr>\n    <tr>\n      <th>175</th>\n      <td>34</td>\n      <td>Shaun Livingston</td>\n      <td>PG</td>\n      <td>6-7</td>\n      <td>192</td>\n      <td>September 11, 1985</td>\n      <td>us</td>\n      <td>9</td>\n      <td>NaN</td>\n      <td>2015</td>\n      <td>GSW</td>\n      <td>win</td>\n    </tr>\n    <tr>\n      <th>176</th>\n      <td>20</td>\n      <td>James Michael McAdoo</td>\n      <td>PF</td>\n      <td>6-9</td>\n      <td>230</td>\n      <td>January 4, 1993</td>\n      <td>us</td>\n      <td>R</td>\n      <td>UNC</td>\n      <td>2015</td>\n      <td>GSW</td>\n      <td>win</td>\n    </tr>\n    <tr>\n      <th>177</th>\n      <td>4</td>\n      <td>Brandon Rush</td>\n      <td>SG</td>\n      <td>6-6</td>\n      <td>220</td>\n      <td>July 7, 1985</td>\n      <td>us</td>\n      <td>6</td>\n      <td>Kansas</td>\n      <td>2015</td>\n      <td>GSW</td>\n      <td>win</td>\n    </tr>\n    <tr>\n      <th>178</th>\n      <td>5</td>\n      <td>Marreese Speights</td>\n      <td>C</td>\n      <td>6-10</td>\n      <td>255</td>\n      <td>August 4, 1987</td>\n      <td>us</td>\n      <td>6</td>\n      <td>Florida</td>\n      <td>2015</td>\n      <td>GSW</td>\n      <td>win</td>\n    </tr>\n    <tr>\n      <th>179</th>\n      <td>11</td>\n      <td>Klay Thompson</td>\n      <td>SG</td>\n      <td>6-6</td>\n      <td>215</td>\n      <td>February 8, 1990</td>\n      <td>us</td>\n      <td>3</td>\n      <td>Washington State</td>\n      <td>2015</td>\n      <td>GSW</td>\n      <td>win</td>\n    </tr>\n  </tbody>\n</table>\n<p>180 rows × 12 columns</p>\n</div>"
     },
     "metadata": {},
     "execution_count": 89
    }
   ],
   "source": [
    "winners_roster"
   ]
  },
  {
   "cell_type": "code",
   "execution_count": 90,
   "metadata": {},
   "outputs": [
    {
     "output_type": "execute_result",
     "data": {
      "text/plain": [
       "     No.            Player Pos    Ht   Wt          Birth Date Nationality Exp  \\\n",
       "0     17       Brent Barry  SG   6-6  185   December 31, 1971          us   9   \n",
       "1     12       Bruce Bowen  SF   6-7  185       June 14, 1971          us   8   \n",
       "2     23       Devin Brown  SG   6-5  220   December 30, 1978          us   2   \n",
       "3     21        Tim Duncan  PF  6-11  250      April 25, 1976          vi   7   \n",
       "4     20     Manu Ginóbili  SG   6-6  205       July 28, 1977          ar   2   \n",
       "..   ...               ...  ..   ...  ...                 ...         ...  ..   \n",
       "365    4     Iman Shumpert  SG   6-5  215       June 26, 1990          us   3   \n",
       "366    5        J.R. Smith  SG   6-6  225   September 9, 1985          us  10   \n",
       "367   13  Tristan Thompson  PF   6-9  254      March 13, 1991          ca   3   \n",
       "368   17  Anderson Varejão   C  6-10  273  September 28, 1982          br  10   \n",
       "369    3      Dion Waiters  SG   6-3  215   December 10, 1991          us   2   \n",
       "\n",
       "                 College  Year Team Result  \n",
       "0           Oregon State  2005  SAS    win  \n",
       "1    Cal State Fullerton  2005  SAS    win  \n",
       "2      Texas-San Antonio  2005  SAS    win  \n",
       "3            Wake Forest  2005  SAS    win  \n",
       "4                    NaN  2005  SAS    win  \n",
       "..                   ...   ...  ...    ...  \n",
       "365         Georgia Tech  2015  CLE   lost  \n",
       "366                  NaN  2015  CLE   lost  \n",
       "367                Texas  2015  CLE   lost  \n",
       "368                  NaN  2015  CLE   lost  \n",
       "369             Syracuse  2015  CLE   lost  \n",
       "\n",
       "[370 rows x 12 columns]"
      ],
      "text/html": "<div>\n<style scoped>\n    .dataframe tbody tr th:only-of-type {\n        vertical-align: middle;\n    }\n\n    .dataframe tbody tr th {\n        vertical-align: top;\n    }\n\n    .dataframe thead th {\n        text-align: right;\n    }\n</style>\n<table border=\"1\" class=\"dataframe\">\n  <thead>\n    <tr style=\"text-align: right;\">\n      <th></th>\n      <th>No.</th>\n      <th>Player</th>\n      <th>Pos</th>\n      <th>Ht</th>\n      <th>Wt</th>\n      <th>Birth Date</th>\n      <th>Nationality</th>\n      <th>Exp</th>\n      <th>College</th>\n      <th>Year</th>\n      <th>Team</th>\n      <th>Result</th>\n    </tr>\n  </thead>\n  <tbody>\n    <tr>\n      <th>0</th>\n      <td>17</td>\n      <td>Brent Barry</td>\n      <td>SG</td>\n      <td>6-6</td>\n      <td>185</td>\n      <td>December 31, 1971</td>\n      <td>us</td>\n      <td>9</td>\n      <td>Oregon State</td>\n      <td>2005</td>\n      <td>SAS</td>\n      <td>win</td>\n    </tr>\n    <tr>\n      <th>1</th>\n      <td>12</td>\n      <td>Bruce Bowen</td>\n      <td>SF</td>\n      <td>6-7</td>\n      <td>185</td>\n      <td>June 14, 1971</td>\n      <td>us</td>\n      <td>8</td>\n      <td>Cal State Fullerton</td>\n      <td>2005</td>\n      <td>SAS</td>\n      <td>win</td>\n    </tr>\n    <tr>\n      <th>2</th>\n      <td>23</td>\n      <td>Devin Brown</td>\n      <td>SG</td>\n      <td>6-5</td>\n      <td>220</td>\n      <td>December 30, 1978</td>\n      <td>us</td>\n      <td>2</td>\n      <td>Texas-San Antonio</td>\n      <td>2005</td>\n      <td>SAS</td>\n      <td>win</td>\n    </tr>\n    <tr>\n      <th>3</th>\n      <td>21</td>\n      <td>Tim Duncan</td>\n      <td>PF</td>\n      <td>6-11</td>\n      <td>250</td>\n      <td>April 25, 1976</td>\n      <td>vi</td>\n      <td>7</td>\n      <td>Wake Forest</td>\n      <td>2005</td>\n      <td>SAS</td>\n      <td>win</td>\n    </tr>\n    <tr>\n      <th>4</th>\n      <td>20</td>\n      <td>Manu Ginóbili</td>\n      <td>SG</td>\n      <td>6-6</td>\n      <td>205</td>\n      <td>July 28, 1977</td>\n      <td>ar</td>\n      <td>2</td>\n      <td>NaN</td>\n      <td>2005</td>\n      <td>SAS</td>\n      <td>win</td>\n    </tr>\n    <tr>\n      <th>...</th>\n      <td>...</td>\n      <td>...</td>\n      <td>...</td>\n      <td>...</td>\n      <td>...</td>\n      <td>...</td>\n      <td>...</td>\n      <td>...</td>\n      <td>...</td>\n      <td>...</td>\n      <td>...</td>\n      <td>...</td>\n    </tr>\n    <tr>\n      <th>365</th>\n      <td>4</td>\n      <td>Iman Shumpert</td>\n      <td>SG</td>\n      <td>6-5</td>\n      <td>215</td>\n      <td>June 26, 1990</td>\n      <td>us</td>\n      <td>3</td>\n      <td>Georgia Tech</td>\n      <td>2015</td>\n      <td>CLE</td>\n      <td>lost</td>\n    </tr>\n    <tr>\n      <th>366</th>\n      <td>5</td>\n      <td>J.R. Smith</td>\n      <td>SG</td>\n      <td>6-6</td>\n      <td>225</td>\n      <td>September 9, 1985</td>\n      <td>us</td>\n      <td>10</td>\n      <td>NaN</td>\n      <td>2015</td>\n      <td>CLE</td>\n      <td>lost</td>\n    </tr>\n    <tr>\n      <th>367</th>\n      <td>13</td>\n      <td>Tristan Thompson</td>\n      <td>PF</td>\n      <td>6-9</td>\n      <td>254</td>\n      <td>March 13, 1991</td>\n      <td>ca</td>\n      <td>3</td>\n      <td>Texas</td>\n      <td>2015</td>\n      <td>CLE</td>\n      <td>lost</td>\n    </tr>\n    <tr>\n      <th>368</th>\n      <td>17</td>\n      <td>Anderson Varejão</td>\n      <td>C</td>\n      <td>6-10</td>\n      <td>273</td>\n      <td>September 28, 1982</td>\n      <td>br</td>\n      <td>10</td>\n      <td>NaN</td>\n      <td>2015</td>\n      <td>CLE</td>\n      <td>lost</td>\n    </tr>\n    <tr>\n      <th>369</th>\n      <td>3</td>\n      <td>Dion Waiters</td>\n      <td>SG</td>\n      <td>6-3</td>\n      <td>215</td>\n      <td>December 10, 1991</td>\n      <td>us</td>\n      <td>2</td>\n      <td>Syracuse</td>\n      <td>2015</td>\n      <td>CLE</td>\n      <td>lost</td>\n    </tr>\n  </tbody>\n</table>\n<p>370 rows × 12 columns</p>\n</div>"
     },
     "metadata": {},
     "execution_count": 90
    }
   ],
   "source": [
    "# merge both winners and losers roster in one dataframe\n",
    "finals_roster = pd.merge(winners_roster, losers_roster, how='outer')\n",
    "finals_roster"
   ]
  },
  {
   "cell_type": "code",
   "execution_count": 91,
   "metadata": {},
   "outputs": [],
   "source": [
    "finals_roster.to_csv('finals_roster.csv')\n",
    "winners_roster.to_csv('winners_roster.csv')\n",
    "losers_roster.to_csv('losers_roster.csv')"
   ]
  },
  {
   "cell_type": "code",
   "execution_count": 92,
   "metadata": {},
   "outputs": [
    {
     "output_type": "execute_result",
     "data": {
      "text/plain": [
       "LeBron James          6\n",
       "Udonis Haslem         5\n",
       "Dwyane Wade           5\n",
       "James Jones           5\n",
       "Shannon Brown         4\n",
       "                     ..\n",
       "Derrick Coleman       1\n",
       "Alexis Ajinça         1\n",
       "Serge Ibaka           1\n",
       "Javaris Crittenton    1\n",
       "Michael Doleac        1\n",
       "Name: Player, Length: 244, dtype: int64"
      ]
     },
     "metadata": {},
     "execution_count": 92
    }
   ],
   "source": [
    "finals_roster['Player'].value_counts()"
   ]
  },
  {
   "cell_type": "code",
   "execution_count": null,
   "metadata": {},
   "outputs": [],
   "source": []
  }
 ]
}