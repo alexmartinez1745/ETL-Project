{
 "cells": [
  {
   "cell_type": "code",
   "execution_count": 4,
   "metadata": {},
   "outputs": [],
   "source": [
    "import pandas as pd"
   ]
  },
  {
   "cell_type": "code",
   "execution_count": 5,
   "metadata": {},
   "outputs": [
    {
     "output_type": "stream",
     "name": "stdout",
     "text": [
      "https://www.basketball-reference.com/teams/SAS/2005.html\n"
     ]
    }
   ],
   "source": [
    "# build url to loop through years\n",
    "range = [2005,2006,2007,2008,2009,2010,2011,2012,2013,2014,2015]\n",
    "base_url = 'https://www.basketball-reference.com/teams/SAS/'\n",
    "year = '2005'\n",
    "url = base_url + year + '.html'\n",
    "print(url)"
   ]
  },
  {
   "cell_type": "code",
   "execution_count": 6,
   "metadata": {
    "collapsed": true,
    "jupyter": {
     "outputs_hidden": true
    }
   },
   "outputs": [
    {
     "output_type": "execute_result",
     "data": {
      "text/plain": [
       "[    No.            Player Pos    Ht   Wt         Birth Date Unnamed: 6 Exp  \\\n",
       " 0    17       Brent Barry  SG   6-6  185  December 31, 1971         us   9   \n",
       " 1    12       Bruce Bowen  SF   6-7  185      June 14, 1971         us   8   \n",
       " 2    23       Devin Brown  SG   6-5  220  December 30, 1978         us   2   \n",
       " 3    21        Tim Duncan  PF  6-11  250     April 25, 1976         vi   7   \n",
       " 4    20     Manu Ginóbili  SG   6-6  205      July 28, 1977         ar   2   \n",
       " 5     1       Dion Glover  SG   6-5  228   October 22, 1978         us   5   \n",
       " 6     5      Robert Horry  PF  6-10  240    August 25, 1970         us  12   \n",
       " 7    43    Linton Johnson  SF   6-8  205      June 13, 1980         us   1   \n",
       " 8     4        Sean Marks  PF  6-10  250    August 23, 1975         nz   4   \n",
       " 9    34   Tony Massenburg  PF   6-9  220      July 31, 1967         us  12   \n",
       " 10    2     Nazr Mohammed   C  6-10  221  September 5, 1977         us   6   \n",
       " 11    8  Rasho Nesterović   C   7-0  248       May 30, 1976         si   6   \n",
       " 12    9       Tony Parker  PG   6-2  185       May 17, 1982         be   3   \n",
       " 13    3    Glenn Robinson  SF   6-7  225   January 10, 1973         us  10   \n",
       " 14   31        Malik Rose  PF   6-7  250  November 23, 1974         us   8   \n",
       " 15   14        Beno Udrih  PG   6-3  205       July 5, 1982         si   R   \n",
       " 16   11        Mike Wilks  PG  5-10  185        May 7, 1979         us   2   \n",
       " \n",
       "                 College  \n",
       " 0          Oregon State  \n",
       " 1   Cal State Fullerton  \n",
       " 2     Texas-San Antonio  \n",
       " 3           Wake Forest  \n",
       " 4                   NaN  \n",
       " 5          Georgia Tech  \n",
       " 6               Alabama  \n",
       " 7                Tulane  \n",
       " 8            California  \n",
       " 9              Maryland  \n",
       " 10             Kentucky  \n",
       " 11                  NaN  \n",
       " 12                  NaN  \n",
       " 13               Purdue  \n",
       " 14               Drexel  \n",
       " 15                  NaN  \n",
       " 16      Rice University  ,\n",
       "     Rk        Unnamed: 1  Age   G  GS    MP   FG   FGA    FG%   3P  ...  \\\n",
       " 0    1       Tony Parker   22  80  80  34.2  6.7  14.0  0.482  0.5  ...   \n",
       " 1    2        Tim Duncan   28  66  66  33.4  7.8  15.8  0.496  0.0  ...   \n",
       " 2    3       Bruce Bowen   33  82  82  32.0  3.1   7.3  0.420  1.2  ...   \n",
       " 3    4     Manu Ginóbili   27  74  74  29.6  5.0  10.5  0.471  1.3  ...   \n",
       " 4    5  Rasho Nesterović   28  70  70  25.5  2.8   6.1  0.460  0.0  ...   \n",
       " 5    6       Brent Barry   33  81   8  21.5  2.4   5.7  0.423  1.2  ...   \n",
       " 6    7      Robert Horry   34  75  16  18.6  2.1   5.0  0.419  0.7  ...   \n",
       " 7    8       Devin Brown   26  67   0  18.5  2.6   6.1  0.423  0.7  ...   \n",
       " 8    9     Nazr Mohammed   27  23   5  18.0  2.4   6.2  0.387  0.0  ...   \n",
       " 9   10    Glenn Robinson   32   9   0  17.4  3.8   8.6  0.442  0.2  ...   \n",
       " 10  11        Malik Rose   30  50   1  17.2  2.5   5.3  0.464  0.0  ...   \n",
       " 11  12        Beno Udrih   22  80   2  14.4  2.2   4.9  0.444  0.7  ...   \n",
       " 12  13   Tony Massenburg   37  61   6  11.5  1.2   3.0  0.407  0.0  ...   \n",
       " 13  14        Sean Marks   29  23   0  10.6  1.2   3.5  0.338  0.0  ...   \n",
       " 14  15       Dion Glover   26   7   0   9.7  1.1   3.1  0.364  0.1  ...   \n",
       " 15  16    Linton Johnson   24   2   0   7.5  0.0   1.0  0.000  0.0  ...   \n",
       " 16  17        Mike Wilks   25  48   0   5.8  0.7   1.6  0.416  0.1  ...   \n",
       " \n",
       "       FT%  ORB  DRB   TRB  AST  STL  BLK  TOV   PF  PTS/G  \n",
       " 0   0.650  0.6  3.1   3.7  6.1  1.2  0.1  2.7  2.1   16.6  \n",
       " 1   0.670  3.1  8.0  11.1  2.7  0.7  2.6  1.9  2.2   20.3  \n",
       " 2   0.634  0.6  2.9   3.5  1.5  0.7  0.5  0.7  2.1    8.2  \n",
       " 3   0.803  1.0  3.4   4.4  3.9  1.6  0.4  2.3  2.6   16.0  \n",
       " 4   0.467  2.6  3.9   6.6  1.0  0.4  1.7  1.0  3.0    5.9  \n",
       " 5   0.837  0.4  2.0   2.3  2.2  0.5  0.2  0.8  1.5    7.4  \n",
       " 6   0.789  1.2  2.4   3.6  1.1  0.9  0.8  0.9  1.8    6.0  \n",
       " 7   0.792  0.6  2.1   2.6  1.4  0.6  0.2  0.8  1.2    7.4  \n",
       " 8   0.571  3.4  3.0   6.4  0.3  0.2  1.4  1.2  2.8    6.2  \n",
       " 9   0.870  0.4  2.2   2.7  0.9  0.4  0.3  0.8  2.1   10.0  \n",
       " 10  0.697  1.9  2.6   4.5  0.8  0.6  0.2  1.1  2.5    6.3  \n",
       " 11  0.753  0.2  0.8   1.0  1.9  0.5  0.1  1.0  1.2    5.9  \n",
       " 12  0.762  0.9  1.8   2.7  0.2  0.3  0.3  0.7  2.0    3.2  \n",
       " 13  0.786  0.8  1.7   2.4  0.3  0.1  0.5  0.6  1.3    3.3  \n",
       " 14  0.800  0.4  1.1   1.6  0.6  0.4  0.4  0.3  1.3    3.6  \n",
       " 15    NaN  0.0  1.5   1.5  0.0  0.5  0.0  0.5  0.5    0.0  \n",
       " 16  0.750  0.1  0.4   0.5  0.7  0.3  0.0  0.3  0.5    1.7  \n",
       " \n",
       " [17 rows x 28 columns],\n",
       "     Rk        Unnamed: 1  Age   G    MP   PER    TS%   3PAr    FTr  ORB%  ...  \\\n",
       " 0    1       Tony Parker   22  80  2735  18.0  0.528  0.140  0.289   2.0  ...   \n",
       " 1    2       Bruce Bowen   33  82  2627   9.5  0.521  0.423  0.187   2.2  ...   \n",
       " 2    3        Tim Duncan   28  66  2203  27.0  0.540  0.009  0.437  10.7  ...   \n",
       " 3    4     Manu Ginóbili   27  74  2193  22.3  0.609  0.331  0.567   4.0  ...   \n",
       " 4    5  Rasho Nesterović   28  70  1785  12.0  0.463  0.000  0.070  12.0  ...   \n",
       " 5    6       Brent Barry   33  81  1742  14.0  0.580  0.610  0.294   1.9  ...   \n",
       " 6    7      Robert Horry   34  75  1396  14.9  0.533  0.368  0.291   7.6  ...   \n",
       " 7    8       Devin Brown   26  67  1238  14.6  0.530  0.296  0.318   3.5  ...   \n",
       " 8    9        Beno Udrih   22  80  1149  14.3  0.549  0.364  0.228   1.6  ...   \n",
       " 9   10        Malik Rose   30  50   862  14.0  0.510  0.015  0.371  12.9  ...   \n",
       " 10  11   Tony Massenburg   37  61   699   8.5  0.467  0.000  0.346   9.0  ...   \n",
       " 11  12     Nazr Mohammed   27  23   414  14.2  0.426  0.000  0.394  22.0  ...   \n",
       " 12  13        Mike Wilks   25  48   278  11.0  0.482  0.208  0.208   1.7  ...   \n",
       " 13  14        Sean Marks   29  23   244   8.7  0.412  0.038  0.350   8.6  ...   \n",
       " 14  15    Glenn Robinson   32   9   157  17.2  0.517  0.078  0.299   3.0  ...   \n",
       " 15  16       Dion Glover   26   7    68  14.0  0.473  0.364  0.455   5.2  ...   \n",
       " 16  17    Linton Johnson   24   2    15  -3.4  0.000  0.500  0.000   0.0  ...   \n",
       " \n",
       "     Unnamed: 17  OWS  DWS    WS  WS/48  Unnamed: 22  OBPM  DBPM  BPM  VORP  \n",
       " 0           NaN  3.6  4.5   8.1  0.141          NaN   1.4   0.6  2.0   2.8  \n",
       " 1           NaN  2.1  4.0   6.1  0.111          NaN  -1.4   1.2 -0.1   1.2  \n",
       " 2           NaN  5.5  5.7  11.2  0.245          NaN   4.8   2.8  7.6   5.4  \n",
       " 3           NaN  6.4  4.6  11.0  0.240          NaN   4.1   2.8  6.9   4.9  \n",
       " 4           NaN  0.5  3.8   4.2  0.114          NaN  -2.7   1.9 -0.7   0.6  \n",
       " 5           NaN  3.5  2.7   6.1  0.168          NaN   1.1   1.3  2.4   1.9  \n",
       " 6           NaN  1.4  3.1   4.6  0.157          NaN   0.2   2.8  3.0   1.8  \n",
       " 7           NaN  1.6  2.1   3.7  0.145          NaN   0.2   1.1  1.3   1.0  \n",
       " 8           NaN  1.3  1.8   3.1  0.128          NaN   0.1   0.8  0.9   0.9  \n",
       " 9           NaN  0.6  1.7   2.3  0.130          NaN  -2.2   0.8 -1.4   0.1  \n",
       " 10          NaN -0.3  1.4   1.1  0.078          NaN  -6.0   0.7 -5.4  -0.6  \n",
       " 11          NaN -0.1  0.9   0.8  0.095          NaN  -3.9  -0.8 -4.7  -0.3  \n",
       " 12          NaN  0.1  0.5   0.6  0.099          NaN  -3.2   2.1 -1.1   0.1  \n",
       " 13          NaN -0.3  0.5   0.2  0.038          NaN  -5.9  -0.1 -6.0  -0.2  \n",
       " 14          NaN  0.2  0.3   0.5  0.147          NaN   0.1   0.6  0.7   0.1  \n",
       " 15          NaN  0.1  0.1   0.2  0.150          NaN  -0.5   3.0  2.4   0.1  \n",
       " 16          NaN -0.1  0.0   0.0 -0.122          NaN -10.8   0.9 -9.9   0.0  \n",
       " \n",
       " [17 rows x 27 columns],\n",
       "     Rk            Player  Age   G  GS    MP   FG   FGA    FG%   3P  ...  \\\n",
       " 0    1        Tim Duncan   28  23  23  37.8  8.6  18.5  0.464  0.0  ...   \n",
       " 1    2       Tony Parker   22  23  23  37.3  7.2  15.9  0.454  0.4  ...   \n",
       " 2    3       Bruce Bowen   33  23  23  35.4  2.0   5.6  0.359  1.3  ...   \n",
       " 3    4     Manu Ginóbili   27  23  15  33.6  6.3  12.4  0.507  1.8  ...   \n",
       " 4    5      Robert Horry   34  23   0  26.9  3.2   7.1  0.448  1.7  ...   \n",
       " 5    6       Brent Barry   33  23   8  24.1  2.1   4.6  0.457  1.2  ...   \n",
       " 6    7     Nazr Mohammed   27  23  23  23.0  2.9   5.4  0.528  0.0  ...   \n",
       " 7    8        Beno Udrih   22  21   0  11.5  1.3   3.7  0.359  0.5  ...   \n",
       " 8    9    Glenn Robinson   32  13   0   8.7  1.2   3.5  0.356  0.2  ...   \n",
       " 9   10  Rasho Nesterović   28  15   0   7.6  0.3   0.8  0.417  0.0  ...   \n",
       " 10  11       Devin Brown   26  12   0   5.0  0.6   1.7  0.350  0.3  ...   \n",
       " 11  12   Tony Massenburg   37   9   0   3.1  0.1   0.7  0.167  0.0  ...   \n",
       " \n",
       "       FT%  ORB  DRB   TRB  AST  STL  BLK  TOV   PF   PTS  \n",
       " 0   0.717  3.8  8.7  12.4  2.7  0.3  2.3  2.7  2.9  23.6  \n",
       " 1   0.632  0.6  2.3   2.9  4.3  0.7  0.1  3.1  3.0  17.2  \n",
       " 2   0.647  0.4  2.5   2.9  1.6  0.5  0.6  0.7  3.3   5.7  \n",
       " 3   0.795  0.8  5.0   5.8  4.2  1.2  0.3  2.9  3.0  20.8  \n",
       " 4   0.732  2.0  3.4   5.4  2.0  0.9  0.9  0.9  2.3   9.3  \n",
       " 5   0.810  0.6  1.9   2.4  1.9  0.7  0.2  1.2  1.9   6.1  \n",
       " 6   0.638  3.3  3.4   6.7  0.3  0.6  1.0  1.0  2.8   7.1  \n",
       " 7   0.857  0.2  0.6   0.8  1.0  0.4  0.0  1.0  1.0   3.7  \n",
       " 8   0.882  0.2  1.5   1.6  0.1  0.2  0.5  0.5  1.5   3.8  \n",
       " 9   0.000  0.7  1.0   1.7  0.1  0.1  0.3  0.3  1.1   0.7  \n",
       " 10  0.571  0.1  0.5   0.6  0.3  0.1  0.0  0.1  0.3   1.8  \n",
       " 11  0.500  0.4  0.8   1.2  0.0  0.0  0.0  0.0  0.2   0.3  \n",
       " \n",
       " [12 rows x 28 columns],\n",
       "     Rk            Player  Age   G   MP   PER    TS%   3PAr    FTr  ORB%  ...  \\\n",
       " 0    1        Tim Duncan   28  23  869  24.9  0.526  0.012  0.482  12.2  ...   \n",
       " 1    2       Tony Parker   22  23  858  12.0  0.490  0.131  0.238   1.8  ...   \n",
       " 2    3       Bruce Bowen   33  23  814   5.4  0.487  0.523  0.133   1.3  ...   \n",
       " 3    4     Manu Ginóbili   27  23  772  24.8  0.652  0.336  0.647   3.0  ...   \n",
       " 4    5      Robert Horry   34  23  618  17.9  0.591  0.521  0.252   9.1  ...   \n",
       " 5    6       Brent Barry   33  23  555  10.5  0.617  0.629  0.200   2.9  ...   \n",
       " 6    7     Nazr Mohammed   27  23  528  16.3  0.559  0.008  0.376  17.3  ...   \n",
       " 7    8        Beno Udrih   22  21  241   7.7  0.463  0.474  0.179   2.0  ...   \n",
       " 8    9  Rasho Nesterović   28  15  114   5.6  0.388  0.000  0.167  11.8  ...   \n",
       " 9   10    Glenn Robinson   32  13  113  11.7  0.476  0.222  0.378   2.2  ...   \n",
       " 10  11       Devin Brown   26  12   60  10.0  0.455  0.350  0.350   2.0  ...   \n",
       " 11  12   Tony Massenburg   37   9   28   5.6  0.218  0.000  0.333  17.4  ...   \n",
       " \n",
       "     Unnamed: 17  OWS  DWS   WS  WS/48  Unnamed: 22  OBPM  DBPM  BPM  VORP  \n",
       " 0           NaN  1.9  1.6  3.5  0.191          NaN   4.0   1.5  5.5   1.6  \n",
       " 1           NaN -0.2  0.7  0.6  0.032          NaN  -1.5  -1.3 -2.7  -0.2  \n",
       " 2           NaN  0.3  0.7  1.0  0.060          NaN  -2.4   1.5 -0.8   0.2  \n",
       " 3           NaN  3.0  1.2  4.2  0.260          NaN   6.1   3.1  9.2   2.2  \n",
       " 4           NaN  1.6  1.0  2.6  0.199          NaN   4.2   3.4  7.6   1.5  \n",
       " 5           NaN  0.6  0.6  1.2  0.107          NaN   0.0   1.5  1.6   0.5  \n",
       " 6           NaN  0.9  0.9  1.7  0.158          NaN  -0.1   1.5  1.3   0.4  \n",
       " 7           NaN -0.3  0.3  0.0  0.000          NaN  -3.1  -0.2 -3.3  -0.1  \n",
       " 8           NaN  0.0  0.2  0.1  0.048          NaN  -3.8   1.3 -2.5   0.0  \n",
       " 9           NaN  0.0  0.2  0.2  0.073          NaN  -3.8   1.6 -2.2   0.0  \n",
       " 10          NaN  0.0  0.1  0.1  0.070          NaN   0.4   0.0  0.4   0.0  \n",
       " 11          NaN  0.0  0.0  0.0  0.015          NaN  -4.1  -3.1 -7.1   0.0  \n",
       " \n",
       " [12 rows x 27 columns]]"
      ]
     },
     "metadata": {},
     "execution_count": 6
    }
   ],
   "source": [
    "# read only the first table\n",
    "table = pd.read_html(url)\n",
    "table"
   ]
  },
  {
   "cell_type": "code",
   "execution_count": null,
   "metadata": {},
   "outputs": [],
   "source": [
    "# testing for loop to get roster by year.  manually select team and years to loop through\n",
    "range = [2005,2007,2014]\n",
    "sas_roster = pd.DataFrame()\n",
    "for year in range:\n",
    "    print(year)\n",
    "    url = base_url + str(year) + '.html'\n",
    "    table = pd.read_html(url)\n",
    "    roster = table[0]\n",
    "    roster['Year'] = year\n",
    "    roster['Team'] = 'San Antonio Spurs'\n",
    "    sas_roster = sas_roster.append(roster)\n",
    "\n",
    "sas_roster\n",
    "\n",
    "\n",
    "# sas_2005 = table[0]\n",
    "# sas_2005['Year'] = 2005\n",
    "# sas_2005['Team'] = \"San Antonio Spurs\"\n",
    "# sas_2005"
   ]
  },
  {
   "cell_type": "code",
   "execution_count": 7,
   "metadata": {},
   "outputs": [
    {
     "output_type": "execute_result",
     "data": {
      "text/plain": [
       "     No.                Player Pos    Ht   Wt          Birth Date Nationality  \\\n",
       "175   34      Shaun Livingston  PG   6-7  192  September 11, 1985          us   \n",
       "176   20  James Michael McAdoo  PF   6-9  230     January 4, 1993          us   \n",
       "177    4          Brandon Rush  SG   6-6  220        July 7, 1985          us   \n",
       "178    5     Marreese Speights   C  6-10  255      August 4, 1987          us   \n",
       "179   11         Klay Thompson  SG   6-6  215    February 8, 1990          us   \n",
       "\n",
       "    Exp           College  Year Team Result  \n",
       "175   9               NaN  2015  GSW    win  \n",
       "176   R               UNC  2015  GSW    win  \n",
       "177   6            Kansas  2015  GSW    win  \n",
       "178   6           Florida  2015  GSW    win  \n",
       "179   3  Washington State  2015  GSW    win  "
      ],
      "text/html": "<div>\n<style scoped>\n    .dataframe tbody tr th:only-of-type {\n        vertical-align: middle;\n    }\n\n    .dataframe tbody tr th {\n        vertical-align: top;\n    }\n\n    .dataframe thead th {\n        text-align: right;\n    }\n</style>\n<table border=\"1\" class=\"dataframe\">\n  <thead>\n    <tr style=\"text-align: right;\">\n      <th></th>\n      <th>No.</th>\n      <th>Player</th>\n      <th>Pos</th>\n      <th>Ht</th>\n      <th>Wt</th>\n      <th>Birth Date</th>\n      <th>Nationality</th>\n      <th>Exp</th>\n      <th>College</th>\n      <th>Year</th>\n      <th>Team</th>\n      <th>Result</th>\n    </tr>\n  </thead>\n  <tbody>\n    <tr>\n      <th>175</th>\n      <td>34</td>\n      <td>Shaun Livingston</td>\n      <td>PG</td>\n      <td>6-7</td>\n      <td>192</td>\n      <td>September 11, 1985</td>\n      <td>us</td>\n      <td>9</td>\n      <td>NaN</td>\n      <td>2015</td>\n      <td>GSW</td>\n      <td>win</td>\n    </tr>\n    <tr>\n      <th>176</th>\n      <td>20</td>\n      <td>James Michael McAdoo</td>\n      <td>PF</td>\n      <td>6-9</td>\n      <td>230</td>\n      <td>January 4, 1993</td>\n      <td>us</td>\n      <td>R</td>\n      <td>UNC</td>\n      <td>2015</td>\n      <td>GSW</td>\n      <td>win</td>\n    </tr>\n    <tr>\n      <th>177</th>\n      <td>4</td>\n      <td>Brandon Rush</td>\n      <td>SG</td>\n      <td>6-6</td>\n      <td>220</td>\n      <td>July 7, 1985</td>\n      <td>us</td>\n      <td>6</td>\n      <td>Kansas</td>\n      <td>2015</td>\n      <td>GSW</td>\n      <td>win</td>\n    </tr>\n    <tr>\n      <th>178</th>\n      <td>5</td>\n      <td>Marreese Speights</td>\n      <td>C</td>\n      <td>6-10</td>\n      <td>255</td>\n      <td>August 4, 1987</td>\n      <td>us</td>\n      <td>6</td>\n      <td>Florida</td>\n      <td>2015</td>\n      <td>GSW</td>\n      <td>win</td>\n    </tr>\n    <tr>\n      <th>179</th>\n      <td>11</td>\n      <td>Klay Thompson</td>\n      <td>SG</td>\n      <td>6-6</td>\n      <td>215</td>\n      <td>February 8, 1990</td>\n      <td>us</td>\n      <td>3</td>\n      <td>Washington State</td>\n      <td>2015</td>\n      <td>GSW</td>\n      <td>win</td>\n    </tr>\n  </tbody>\n</table>\n</div>"
     },
     "metadata": {},
     "execution_count": 7
    }
   ],
   "source": [
    "# iterate through dictionary of Finals winners (2005-2015), scrape data from web and build a DataFrame of roster for all 10 years\n",
    "winners = {2005: 'SAS', 2006: 'MIA',2007: 'SAS',2008: 'BOS',2009: 'LAL',2010: 'LAL',2011: 'DAL',2012: 'MIA',2013: 'MIA',2014:'SAS',2015: 'GSW'}\n",
    "base_url = 'https://www.basketball-reference.com/teams/'\n",
    "winners_roster = pd.DataFrame()\n",
    "for key, value in winners.items():\n",
    "    # print(year)\n",
    "    url = base_url + value + '/' + str(key) + '.html'\n",
    "    table = pd.read_html(url)\n",
    "    roster = table[0]\n",
    "    roster['Year'] = key\n",
    "    roster['Team'] = value\n",
    "    roster['Result'] = 'win'\n",
    "    winners_roster = winners_roster.append(roster)\n",
    "\n",
    "winners_roster = winners_roster.rename(columns={'Unnamed: 6': 'Nationality'})\n",
    "winners_roster.reset_index(drop=True, inplace=True)\n",
    "\n",
    "winners_roster.tail()    "
   ]
  },
  {
   "cell_type": "code",
   "execution_count": 8,
   "metadata": {},
   "outputs": [
    {
     "output_type": "execute_result",
     "data": {
      "text/plain": [
       "     No.            Player Pos    Ht   Wt          Birth Date Nationality Exp  \\\n",
       "185    4     Iman Shumpert  SG   6-5  215       June 26, 1990          us   3   \n",
       "186    5        J.R. Smith  SG   6-6  225   September 9, 1985          us  10   \n",
       "187   13  Tristan Thompson  PF   6-9  254      March 13, 1991          ca   3   \n",
       "188   17  Anderson Varejão   C  6-10  273  September 28, 1982          br  10   \n",
       "189    3      Dion Waiters  SG   6-3  215   December 10, 1991          us   2   \n",
       "\n",
       "          College  Year Team Result  \n",
       "185  Georgia Tech  2015  CLE   lost  \n",
       "186           NaN  2015  CLE   lost  \n",
       "187         Texas  2015  CLE   lost  \n",
       "188           NaN  2015  CLE   lost  \n",
       "189      Syracuse  2015  CLE   lost  "
      ],
      "text/html": "<div>\n<style scoped>\n    .dataframe tbody tr th:only-of-type {\n        vertical-align: middle;\n    }\n\n    .dataframe tbody tr th {\n        vertical-align: top;\n    }\n\n    .dataframe thead th {\n        text-align: right;\n    }\n</style>\n<table border=\"1\" class=\"dataframe\">\n  <thead>\n    <tr style=\"text-align: right;\">\n      <th></th>\n      <th>No.</th>\n      <th>Player</th>\n      <th>Pos</th>\n      <th>Ht</th>\n      <th>Wt</th>\n      <th>Birth Date</th>\n      <th>Nationality</th>\n      <th>Exp</th>\n      <th>College</th>\n      <th>Year</th>\n      <th>Team</th>\n      <th>Result</th>\n    </tr>\n  </thead>\n  <tbody>\n    <tr>\n      <th>185</th>\n      <td>4</td>\n      <td>Iman Shumpert</td>\n      <td>SG</td>\n      <td>6-5</td>\n      <td>215</td>\n      <td>June 26, 1990</td>\n      <td>us</td>\n      <td>3</td>\n      <td>Georgia Tech</td>\n      <td>2015</td>\n      <td>CLE</td>\n      <td>lost</td>\n    </tr>\n    <tr>\n      <th>186</th>\n      <td>5</td>\n      <td>J.R. Smith</td>\n      <td>SG</td>\n      <td>6-6</td>\n      <td>225</td>\n      <td>September 9, 1985</td>\n      <td>us</td>\n      <td>10</td>\n      <td>NaN</td>\n      <td>2015</td>\n      <td>CLE</td>\n      <td>lost</td>\n    </tr>\n    <tr>\n      <th>187</th>\n      <td>13</td>\n      <td>Tristan Thompson</td>\n      <td>PF</td>\n      <td>6-9</td>\n      <td>254</td>\n      <td>March 13, 1991</td>\n      <td>ca</td>\n      <td>3</td>\n      <td>Texas</td>\n      <td>2015</td>\n      <td>CLE</td>\n      <td>lost</td>\n    </tr>\n    <tr>\n      <th>188</th>\n      <td>17</td>\n      <td>Anderson Varejão</td>\n      <td>C</td>\n      <td>6-10</td>\n      <td>273</td>\n      <td>September 28, 1982</td>\n      <td>br</td>\n      <td>10</td>\n      <td>NaN</td>\n      <td>2015</td>\n      <td>CLE</td>\n      <td>lost</td>\n    </tr>\n    <tr>\n      <th>189</th>\n      <td>3</td>\n      <td>Dion Waiters</td>\n      <td>SG</td>\n      <td>6-3</td>\n      <td>215</td>\n      <td>December 10, 1991</td>\n      <td>us</td>\n      <td>2</td>\n      <td>Syracuse</td>\n      <td>2015</td>\n      <td>CLE</td>\n      <td>lost</td>\n    </tr>\n  </tbody>\n</table>\n</div>"
     },
     "metadata": {},
     "execution_count": 8
    }
   ],
   "source": [
    "# iterate through dictionary of Finals losers (2005-2015), scrape data from web and build a DataFrame of roster for all 10 years\n",
    "losers = {2005: 'DET', 2006: 'DAL',2007: 'CLE',2008: 'LAL',2009: 'ORL',2010: 'BOS',2011: 'MIA',2012: 'OKC',2013: 'SAS',2014:'MIA',2015: 'CLE'}\n",
    "base_url = 'https://www.basketball-reference.com/teams/'\n",
    "losers_roster = pd.DataFrame()\n",
    "for key, value in losers.items():\n",
    "    # print(year)\n",
    "    url = base_url + value + '/' + str(key) + '.html'\n",
    "    table = pd.read_html(url)\n",
    "    roster = table[0]\n",
    "    roster['Year'] = key\n",
    "    roster['Team'] = value\n",
    "    roster['Result'] = 'lost'\n",
    "    losers_roster = losers_roster.append(roster)\n",
    "\n",
    "losers_roster = losers_roster.rename(columns={'Unnamed: 6': 'Nationality'})\n",
    "losers_roster.reset_index(drop=True, inplace=True)\n",
    "\n",
    "losers_roster.tail()    "
   ]
  },
  {
   "cell_type": "code",
   "execution_count": 9,
   "metadata": {},
   "outputs": [
    {
     "output_type": "execute_result",
     "data": {
      "text/plain": [
       "     No.            Player Pos    Ht   Wt          Birth Date Nationality Exp  \\\n",
       "0     17       Brent Barry  SG   6-6  185   December 31, 1971          us   9   \n",
       "1     12       Bruce Bowen  SF   6-7  185       June 14, 1971          us   8   \n",
       "2     23       Devin Brown  SG   6-5  220   December 30, 1978          us   2   \n",
       "3     21        Tim Duncan  PF  6-11  250      April 25, 1976          vi   7   \n",
       "4     20     Manu Ginóbili  SG   6-6  205       July 28, 1977          ar   2   \n",
       "..   ...               ...  ..   ...  ...                 ...         ...  ..   \n",
       "365    4     Iman Shumpert  SG   6-5  215       June 26, 1990          us   3   \n",
       "366    5        J.R. Smith  SG   6-6  225   September 9, 1985          us  10   \n",
       "367   13  Tristan Thompson  PF   6-9  254      March 13, 1991          ca   3   \n",
       "368   17  Anderson Varejão   C  6-10  273  September 28, 1982          br  10   \n",
       "369    3      Dion Waiters  SG   6-3  215   December 10, 1991          us   2   \n",
       "\n",
       "                 College  Year Team Result  \n",
       "0           Oregon State  2005  SAS    win  \n",
       "1    Cal State Fullerton  2005  SAS    win  \n",
       "2      Texas-San Antonio  2005  SAS    win  \n",
       "3            Wake Forest  2005  SAS    win  \n",
       "4                    NaN  2005  SAS    win  \n",
       "..                   ...   ...  ...    ...  \n",
       "365         Georgia Tech  2015  CLE   lost  \n",
       "366                  NaN  2015  CLE   lost  \n",
       "367                Texas  2015  CLE   lost  \n",
       "368                  NaN  2015  CLE   lost  \n",
       "369             Syracuse  2015  CLE   lost  \n",
       "\n",
       "[370 rows x 12 columns]"
      ],
      "text/html": "<div>\n<style scoped>\n    .dataframe tbody tr th:only-of-type {\n        vertical-align: middle;\n    }\n\n    .dataframe tbody tr th {\n        vertical-align: top;\n    }\n\n    .dataframe thead th {\n        text-align: right;\n    }\n</style>\n<table border=\"1\" class=\"dataframe\">\n  <thead>\n    <tr style=\"text-align: right;\">\n      <th></th>\n      <th>No.</th>\n      <th>Player</th>\n      <th>Pos</th>\n      <th>Ht</th>\n      <th>Wt</th>\n      <th>Birth Date</th>\n      <th>Nationality</th>\n      <th>Exp</th>\n      <th>College</th>\n      <th>Year</th>\n      <th>Team</th>\n      <th>Result</th>\n    </tr>\n  </thead>\n  <tbody>\n    <tr>\n      <th>0</th>\n      <td>17</td>\n      <td>Brent Barry</td>\n      <td>SG</td>\n      <td>6-6</td>\n      <td>185</td>\n      <td>December 31, 1971</td>\n      <td>us</td>\n      <td>9</td>\n      <td>Oregon State</td>\n      <td>2005</td>\n      <td>SAS</td>\n      <td>win</td>\n    </tr>\n    <tr>\n      <th>1</th>\n      <td>12</td>\n      <td>Bruce Bowen</td>\n      <td>SF</td>\n      <td>6-7</td>\n      <td>185</td>\n      <td>June 14, 1971</td>\n      <td>us</td>\n      <td>8</td>\n      <td>Cal State Fullerton</td>\n      <td>2005</td>\n      <td>SAS</td>\n      <td>win</td>\n    </tr>\n    <tr>\n      <th>2</th>\n      <td>23</td>\n      <td>Devin Brown</td>\n      <td>SG</td>\n      <td>6-5</td>\n      <td>220</td>\n      <td>December 30, 1978</td>\n      <td>us</td>\n      <td>2</td>\n      <td>Texas-San Antonio</td>\n      <td>2005</td>\n      <td>SAS</td>\n      <td>win</td>\n    </tr>\n    <tr>\n      <th>3</th>\n      <td>21</td>\n      <td>Tim Duncan</td>\n      <td>PF</td>\n      <td>6-11</td>\n      <td>250</td>\n      <td>April 25, 1976</td>\n      <td>vi</td>\n      <td>7</td>\n      <td>Wake Forest</td>\n      <td>2005</td>\n      <td>SAS</td>\n      <td>win</td>\n    </tr>\n    <tr>\n      <th>4</th>\n      <td>20</td>\n      <td>Manu Ginóbili</td>\n      <td>SG</td>\n      <td>6-6</td>\n      <td>205</td>\n      <td>July 28, 1977</td>\n      <td>ar</td>\n      <td>2</td>\n      <td>NaN</td>\n      <td>2005</td>\n      <td>SAS</td>\n      <td>win</td>\n    </tr>\n    <tr>\n      <th>...</th>\n      <td>...</td>\n      <td>...</td>\n      <td>...</td>\n      <td>...</td>\n      <td>...</td>\n      <td>...</td>\n      <td>...</td>\n      <td>...</td>\n      <td>...</td>\n      <td>...</td>\n      <td>...</td>\n      <td>...</td>\n    </tr>\n    <tr>\n      <th>365</th>\n      <td>4</td>\n      <td>Iman Shumpert</td>\n      <td>SG</td>\n      <td>6-5</td>\n      <td>215</td>\n      <td>June 26, 1990</td>\n      <td>us</td>\n      <td>3</td>\n      <td>Georgia Tech</td>\n      <td>2015</td>\n      <td>CLE</td>\n      <td>lost</td>\n    </tr>\n    <tr>\n      <th>366</th>\n      <td>5</td>\n      <td>J.R. Smith</td>\n      <td>SG</td>\n      <td>6-6</td>\n      <td>225</td>\n      <td>September 9, 1985</td>\n      <td>us</td>\n      <td>10</td>\n      <td>NaN</td>\n      <td>2015</td>\n      <td>CLE</td>\n      <td>lost</td>\n    </tr>\n    <tr>\n      <th>367</th>\n      <td>13</td>\n      <td>Tristan Thompson</td>\n      <td>PF</td>\n      <td>6-9</td>\n      <td>254</td>\n      <td>March 13, 1991</td>\n      <td>ca</td>\n      <td>3</td>\n      <td>Texas</td>\n      <td>2015</td>\n      <td>CLE</td>\n      <td>lost</td>\n    </tr>\n    <tr>\n      <th>368</th>\n      <td>17</td>\n      <td>Anderson Varejão</td>\n      <td>C</td>\n      <td>6-10</td>\n      <td>273</td>\n      <td>September 28, 1982</td>\n      <td>br</td>\n      <td>10</td>\n      <td>NaN</td>\n      <td>2015</td>\n      <td>CLE</td>\n      <td>lost</td>\n    </tr>\n    <tr>\n      <th>369</th>\n      <td>3</td>\n      <td>Dion Waiters</td>\n      <td>SG</td>\n      <td>6-3</td>\n      <td>215</td>\n      <td>December 10, 1991</td>\n      <td>us</td>\n      <td>2</td>\n      <td>Syracuse</td>\n      <td>2015</td>\n      <td>CLE</td>\n      <td>lost</td>\n    </tr>\n  </tbody>\n</table>\n<p>370 rows × 12 columns</p>\n</div>"
     },
     "metadata": {},
     "execution_count": 9
    }
   ],
   "source": [
    "# merge both winners and losers roster in one dataframe\n",
    "finals_roster = pd.merge(winners_roster, losers_roster, how='outer')\n",
    "finals_roster"
   ]
  },
  {
   "cell_type": "code",
   "execution_count": 13,
   "metadata": {},
   "outputs": [
    {
     "output_type": "execute_result",
     "data": {
      "text/plain": [
       "     No.                Player Pos    Ht   Wt          Birth Date Nationality  \\\n",
       "166   40       Harrison Barnes  SF   6-8  225        May 30, 1992          us   \n",
       "175   34      Shaun Livingston  PG   6-7  192  September 11, 1985          us   \n",
       "168   30         Stephen Curry  PG   6-3  185      March 14, 1988          us   \n",
       "176   20  James Michael McAdoo  PF   6-9  230     January 4, 1993          us   \n",
       "167   12          Andrew Bogut   C   7-0  260   November 28, 1984          au   \n",
       "..   ...                   ...  ..   ...  ...                 ...         ...   \n",
       "193    7          Smush Parker  PG   6-4  190        June 1, 1981          us   \n",
       "180   30         Carlos Arroyo  PG   6-2  202       July 30, 1979          pr   \n",
       "195    3           Ben Wallace   C   6-9  240  September 10, 1974          us   \n",
       "196   36       Rasheed Wallace  PF  6-10  225  September 17, 1974          us   \n",
       "185   12         Ronald Dupree  SF   6-7  209    January 26, 1981          us   \n",
       "\n",
       "    Exp                           College  Year Team Result  \n",
       "166   2                               UNC  2015  GSW    win  \n",
       "175   9                               NaN  2015  GSW    win  \n",
       "168   5                          Davidson  2015  GSW    win  \n",
       "176   R                               UNC  2015  GSW    win  \n",
       "167   9                              Utah  2015  GSW    win  \n",
       "..   ..                               ...   ...  ...    ...  \n",
       "193   1                           Fordham  2005  DET   lost  \n",
       "180   3  Florida International University  2005  DET   lost  \n",
       "195   8         Virginia Union University  2005  DET   lost  \n",
       "196   9                               UNC  2005  DET   lost  \n",
       "185   1                               LSU  2005  DET   lost  \n",
       "\n",
       "[370 rows x 12 columns]"
      ],
      "text/html": "<div>\n<style scoped>\n    .dataframe tbody tr th:only-of-type {\n        vertical-align: middle;\n    }\n\n    .dataframe tbody tr th {\n        vertical-align: top;\n    }\n\n    .dataframe thead th {\n        text-align: right;\n    }\n</style>\n<table border=\"1\" class=\"dataframe\">\n  <thead>\n    <tr style=\"text-align: right;\">\n      <th></th>\n      <th>No.</th>\n      <th>Player</th>\n      <th>Pos</th>\n      <th>Ht</th>\n      <th>Wt</th>\n      <th>Birth Date</th>\n      <th>Nationality</th>\n      <th>Exp</th>\n      <th>College</th>\n      <th>Year</th>\n      <th>Team</th>\n      <th>Result</th>\n    </tr>\n  </thead>\n  <tbody>\n    <tr>\n      <th>166</th>\n      <td>40</td>\n      <td>Harrison Barnes</td>\n      <td>SF</td>\n      <td>6-8</td>\n      <td>225</td>\n      <td>May 30, 1992</td>\n      <td>us</td>\n      <td>2</td>\n      <td>UNC</td>\n      <td>2015</td>\n      <td>GSW</td>\n      <td>win</td>\n    </tr>\n    <tr>\n      <th>175</th>\n      <td>34</td>\n      <td>Shaun Livingston</td>\n      <td>PG</td>\n      <td>6-7</td>\n      <td>192</td>\n      <td>September 11, 1985</td>\n      <td>us</td>\n      <td>9</td>\n      <td>NaN</td>\n      <td>2015</td>\n      <td>GSW</td>\n      <td>win</td>\n    </tr>\n    <tr>\n      <th>168</th>\n      <td>30</td>\n      <td>Stephen Curry</td>\n      <td>PG</td>\n      <td>6-3</td>\n      <td>185</td>\n      <td>March 14, 1988</td>\n      <td>us</td>\n      <td>5</td>\n      <td>Davidson</td>\n      <td>2015</td>\n      <td>GSW</td>\n      <td>win</td>\n    </tr>\n    <tr>\n      <th>176</th>\n      <td>20</td>\n      <td>James Michael McAdoo</td>\n      <td>PF</td>\n      <td>6-9</td>\n      <td>230</td>\n      <td>January 4, 1993</td>\n      <td>us</td>\n      <td>R</td>\n      <td>UNC</td>\n      <td>2015</td>\n      <td>GSW</td>\n      <td>win</td>\n    </tr>\n    <tr>\n      <th>167</th>\n      <td>12</td>\n      <td>Andrew Bogut</td>\n      <td>C</td>\n      <td>7-0</td>\n      <td>260</td>\n      <td>November 28, 1984</td>\n      <td>au</td>\n      <td>9</td>\n      <td>Utah</td>\n      <td>2015</td>\n      <td>GSW</td>\n      <td>win</td>\n    </tr>\n    <tr>\n      <th>...</th>\n      <td>...</td>\n      <td>...</td>\n      <td>...</td>\n      <td>...</td>\n      <td>...</td>\n      <td>...</td>\n      <td>...</td>\n      <td>...</td>\n      <td>...</td>\n      <td>...</td>\n      <td>...</td>\n      <td>...</td>\n    </tr>\n    <tr>\n      <th>193</th>\n      <td>7</td>\n      <td>Smush Parker</td>\n      <td>PG</td>\n      <td>6-4</td>\n      <td>190</td>\n      <td>June 1, 1981</td>\n      <td>us</td>\n      <td>1</td>\n      <td>Fordham</td>\n      <td>2005</td>\n      <td>DET</td>\n      <td>lost</td>\n    </tr>\n    <tr>\n      <th>180</th>\n      <td>30</td>\n      <td>Carlos Arroyo</td>\n      <td>PG</td>\n      <td>6-2</td>\n      <td>202</td>\n      <td>July 30, 1979</td>\n      <td>pr</td>\n      <td>3</td>\n      <td>Florida International University</td>\n      <td>2005</td>\n      <td>DET</td>\n      <td>lost</td>\n    </tr>\n    <tr>\n      <th>195</th>\n      <td>3</td>\n      <td>Ben Wallace</td>\n      <td>C</td>\n      <td>6-9</td>\n      <td>240</td>\n      <td>September 10, 1974</td>\n      <td>us</td>\n      <td>8</td>\n      <td>Virginia Union University</td>\n      <td>2005</td>\n      <td>DET</td>\n      <td>lost</td>\n    </tr>\n    <tr>\n      <th>196</th>\n      <td>36</td>\n      <td>Rasheed Wallace</td>\n      <td>PF</td>\n      <td>6-10</td>\n      <td>225</td>\n      <td>September 17, 1974</td>\n      <td>us</td>\n      <td>9</td>\n      <td>UNC</td>\n      <td>2005</td>\n      <td>DET</td>\n      <td>lost</td>\n    </tr>\n    <tr>\n      <th>185</th>\n      <td>12</td>\n      <td>Ronald Dupree</td>\n      <td>SF</td>\n      <td>6-7</td>\n      <td>209</td>\n      <td>January 26, 1981</td>\n      <td>us</td>\n      <td>1</td>\n      <td>LSU</td>\n      <td>2005</td>\n      <td>DET</td>\n      <td>lost</td>\n    </tr>\n  </tbody>\n</table>\n<p>370 rows × 12 columns</p>\n</div>"
     },
     "metadata": {},
     "execution_count": 13
    }
   ],
   "source": [
    "# sort finals roster by year and team\n",
    "finals_roster = finals_roster.sort_values(by=['Year','Team'], ascending=False)\n",
    "finals_roster"
   ]
  },
  {
   "cell_type": "code",
   "execution_count": 14,
   "metadata": {},
   "outputs": [],
   "source": [
    "# export dataframes to csv\n",
    "finals_roster.to_csv('finals_roster.csv')\n",
    "winners_roster.to_csv('winners_roster.csv')\n",
    "losers_roster.to_csv('losers_roster.csv')"
   ]
  },
  {
   "cell_type": "code",
   "execution_count": 38,
   "metadata": {},
   "outputs": [],
   "source": [
    "# find how many times each player has appeared in finals\n",
    "finals_appearance = finals_roster['Player'].value_counts()"
   ]
  },
  {
   "cell_type": "code",
   "execution_count": 16,
   "metadata": {},
   "outputs": [],
   "source": [
    "# send dataframe to html for webpage\n",
    "finals_roster.to_html(\"finals_roster.htm\", index=False)\n",
    "html_file = finals_roster.to_html()"
   ]
  },
  {
   "cell_type": "code",
   "execution_count": 22,
   "metadata": {},
   "outputs": [],
   "source": [
    "# find how many wins each player has\n",
    "finals_wins = finals_roster[finals_roster['Result'] == 'win'].groupby('Player')['Result'].count()"
   ]
  },
  {
   "cell_type": "code",
   "execution_count": 23,
   "metadata": {},
   "outputs": [
    {
     "output_type": "execute_result",
     "data": {
      "text/plain": [
       "Player\n",
       "Adam Morrison          2\n",
       "Alexis Ajinça          1\n",
       "Alonzo Mourning        1\n",
       "Andre Iguodala         1\n",
       "Andrew Bogut           1\n",
       "                      ..\n",
       "Trevor Ariza           1\n",
       "Tyson Chandler         1\n",
       "Udonis Haslem          3\n",
       "Vladimir Radmanović    1\n",
       "Wayne Simien           1\n",
       "Name: Result, Length: 139, dtype: int64"
      ]
     },
     "metadata": {},
     "execution_count": 23
    }
   ],
   "source": [
    "finals_wins"
   ]
  },
  {
   "cell_type": "code",
   "execution_count": 27,
   "metadata": {},
   "outputs": [
    {
     "output_type": "stream",
     "name": "stdout",
     "text": [
      "Player\nA.J. Price             1\nAdonal Foyle           1\nAdrian Griffin         1\nAlex Kirk              1\nAnderson Varejão       2\n                      ..\nTyronn Lue             1\nUdonis Haslem          2\nVladimir Radmanović    1\nWill Cherry            1\nZydrunas Ilgauskas     2\nName: Result, Length: 163, dtype: int64\n"
     ]
    }
   ],
   "source": [
    "# find how many losses each player has\n",
    "finals_lost = finals_roster[finals_roster['Result'] == 'lost'].groupby('Player')['Result'].count()\n",
    "print(finals_lost)"
   ]
  },
  {
   "cell_type": "code",
   "execution_count": 39,
   "metadata": {},
   "outputs": [],
   "source": [
    "# create dataframes for each series\n",
    "df_appear = pd.Series(finals_appearance, name='Finals')\n",
    "df_win = pd.Series(finals_wins, name='Won')\n",
    "df_lost = pd.Series(finals_lost, name='Lost')\n",
    "# pd.concat([finals_lost, finals_wins], axis=1)"
   ]
  },
  {
   "cell_type": "code",
   "execution_count": 40,
   "metadata": {},
   "outputs": [],
   "source": [
    "# combine all three series into one dataframe and replace NaN with zero\n",
    "roster_stats = pd.concat([df_appear, df_win, df_lost], axis=1)\n",
    "roster_stats = roster_stats.fillna(0)"
   ]
  },
  {
   "cell_type": "code",
   "execution_count": 43,
   "metadata": {},
   "outputs": [
    {
     "output_type": "execute_result",
     "data": {
      "text/plain": [
       "                 Finals  Won  Lost\n",
       "LeBron James          6  2.0   4.0\n",
       "James Jones           5  2.0   3.0\n",
       "Dwyane Wade           5  3.0   2.0\n",
       "Udonis Haslem         5  3.0   2.0\n",
       "Mike Miller           4  2.0   2.0\n",
       "...                 ...  ...   ...\n",
       "Antonio McDyess       1  0.0   1.0\n",
       "Peja Stojaković       1  1.0   0.0\n",
       "J.R. Giddens          1  0.0   1.0\n",
       "Daniel Gibson         1  0.0   1.0\n",
       "J.J. Barea            1  1.0   0.0\n",
       "\n",
       "[244 rows x 3 columns]"
      ],
      "text/html": "<div>\n<style scoped>\n    .dataframe tbody tr th:only-of-type {\n        vertical-align: middle;\n    }\n\n    .dataframe tbody tr th {\n        vertical-align: top;\n    }\n\n    .dataframe thead th {\n        text-align: right;\n    }\n</style>\n<table border=\"1\" class=\"dataframe\">\n  <thead>\n    <tr style=\"text-align: right;\">\n      <th></th>\n      <th>Finals</th>\n      <th>Won</th>\n      <th>Lost</th>\n    </tr>\n  </thead>\n  <tbody>\n    <tr>\n      <th>LeBron James</th>\n      <td>6</td>\n      <td>2.0</td>\n      <td>4.0</td>\n    </tr>\n    <tr>\n      <th>James Jones</th>\n      <td>5</td>\n      <td>2.0</td>\n      <td>3.0</td>\n    </tr>\n    <tr>\n      <th>Dwyane Wade</th>\n      <td>5</td>\n      <td>3.0</td>\n      <td>2.0</td>\n    </tr>\n    <tr>\n      <th>Udonis Haslem</th>\n      <td>5</td>\n      <td>3.0</td>\n      <td>2.0</td>\n    </tr>\n    <tr>\n      <th>Mike Miller</th>\n      <td>4</td>\n      <td>2.0</td>\n      <td>2.0</td>\n    </tr>\n    <tr>\n      <th>...</th>\n      <td>...</td>\n      <td>...</td>\n      <td>...</td>\n    </tr>\n    <tr>\n      <th>Antonio McDyess</th>\n      <td>1</td>\n      <td>0.0</td>\n      <td>1.0</td>\n    </tr>\n    <tr>\n      <th>Peja Stojaković</th>\n      <td>1</td>\n      <td>1.0</td>\n      <td>0.0</td>\n    </tr>\n    <tr>\n      <th>J.R. Giddens</th>\n      <td>1</td>\n      <td>0.0</td>\n      <td>1.0</td>\n    </tr>\n    <tr>\n      <th>Daniel Gibson</th>\n      <td>1</td>\n      <td>0.0</td>\n      <td>1.0</td>\n    </tr>\n    <tr>\n      <th>J.J. Barea</th>\n      <td>1</td>\n      <td>1.0</td>\n      <td>0.0</td>\n    </tr>\n  </tbody>\n</table>\n<p>244 rows × 3 columns</p>\n</div>"
     },
     "metadata": {},
     "execution_count": 43
    }
   ],
   "source": [
    "# sort df by how many finals player has appeared in\n",
    "roster_stats = roster_stats.sort_values(by='Finals', ascending=False)\n",
    "roster_stats"
   ]
  },
  {
   "cell_type": "code",
   "execution_count": 45,
   "metadata": {},
   "outputs": [],
   "source": [
    "roster_stats.to_html(\"roster_stats.htm\")\n",
    "html_file = roster_stats.to_html()"
   ]
  },
  {
   "cell_type": "code",
   "execution_count": null,
   "metadata": {},
   "outputs": [],
   "source": []
  }
 ],
 "metadata": {
  "kernelspec": {
   "display_name": "Python 3",
   "language": "python",
   "name": "python3"
  },
  "language_info": {
   "codemirror_mode": {
    "name": "ipython",
    "version": 3
   },
   "file_extension": ".py",
   "mimetype": "text/x-python",
   "name": "python",
   "nbconvert_exporter": "python",
   "pygments_lexer": "ipython3",
   "version": "3.8.5-final"
  }
 },
 "nbformat": 4,
 "nbformat_minor": 4
}