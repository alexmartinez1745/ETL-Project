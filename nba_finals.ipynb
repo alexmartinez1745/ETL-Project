{
 "metadata": {
  "language_info": {
   "codemirror_mode": {
    "name": "ipython",
    "version": 3
   },
   "file_extension": ".py",
   "mimetype": "text/x-python",
   "name": "python",
   "nbconvert_exporter": "python",
   "pygments_lexer": "ipython3",
   "version": "3.6.10-final"
  },
  "orig_nbformat": 2,
  "kernelspec": {
   "name": "python3",
   "display_name": "Python 3.6.10 64-bit ('PythonData': conda)",
   "metadata": {
    "interpreter": {
     "hash": "39cf81ff75551f3ea7268a5731633db08a0e59f6bdbd7d1519c41c672b5e67ae"
    }
   }
  }
 },
 "nbformat": 4,
 "nbformat_minor": 2,
 "cells": [
  {
   "cell_type": "code",
   "execution_count": 1,
   "metadata": {},
   "outputs": [],
   "source": [
    "import pandas as pd"
   ]
  },
  {
   "cell_type": "code",
   "execution_count": 2,
   "metadata": {},
   "outputs": [],
   "source": [
    "url = 'https://www.basketball-reference.com/playoffs/'"
   ]
  },
  {
   "cell_type": "code",
   "execution_count": 4,
   "metadata": {},
   "outputs": [
    {
     "output_type": "execute_result",
     "data": {
      "text/plain": [
       "[   Unnamed: 0_level_0 Unnamed: 1_level_0                 Finals  \\\n",
       "                  Year                 Lg               Champion   \n",
       " 0              2020.0                NBA     Los Angeles Lakers   \n",
       " 1              2019.0                NBA        Toronto Raptors   \n",
       " 2              2018.0                NBA  Golden State Warriors   \n",
       " 3              2017.0                NBA  Golden State Warriors   \n",
       " 4              2016.0                NBA    Cleveland Cavaliers   \n",
       " ..                ...                ...                    ...   \n",
       " 82             1950.0                NBA     Minneapolis Lakers   \n",
       " 83                NaN                NaN                    NaN   \n",
       " 84             1949.0                BAA     Minneapolis Lakers   \n",
       " 85             1948.0                BAA      Baltimore Bullets   \n",
       " 86             1947.0                BAA  Philadelphia Warriors   \n",
       " \n",
       "                                       Unnamed: 5_level_0  \\\n",
       "                 Runner-Up  Finals MVP Unnamed: 5_level_1   \n",
       " 0              Miami Heat    L. James                NaN   \n",
       " 1   Golden State Warriors  K. Leonard                NaN   \n",
       " 2     Cleveland Cavaliers   K. Durant                NaN   \n",
       " 3     Cleveland Cavaliers   K. Durant                NaN   \n",
       " 4   Golden State Warriors    L. James                NaN   \n",
       " ..                    ...         ...                ...   \n",
       " 82     Syracuse Nationals         NaN                NaN   \n",
       " 83                    NaN         NaN                NaN   \n",
       " 84    Washington Capitols         NaN                NaN   \n",
       " 85  Philadelphia Warriors         NaN                NaN   \n",
       " 86          Chicago Stags         NaN                NaN   \n",
       " \n",
       "    Playoffs Top Performers                                      \\\n",
       "                     Points        Rebounds             Assists   \n",
       " 0           A. Davis (582)  L. James (226)      L. James (184)   \n",
       " 1         K. Leonard (732)  D. Green (223)      D. Green (187)   \n",
       " 2           L. James (748)  D. Green (222)      L. James (198)   \n",
       " 3           L. James (591)   K. Love (191)      L. James (141)   \n",
       " 4        K. Thompson (582)  D. Green (228)  R. Westbrook (198)   \n",
       " ..                     ...             ...                 ...   \n",
       " 82          G. Mikan (376)             NaN     J. Pollard (56)   \n",
       " 83                     NaN             NaN                 NaN   \n",
       " 84          G. Mikan (303)             NaN     J. Pollard (39)   \n",
       " 85          J. Fulks (282)             NaN     H. Dallmar (37)   \n",
       " 86          J. Fulks (222)             NaN     H. Dallmar (16)   \n",
       " \n",
       "                       \n",
       "           Win Shares  \n",
       " 0     A. Davis (4.5)  \n",
       " 1   K. Leonard (4.9)  \n",
       " 2     L. James (5.2)  \n",
       " 3     L. James (4.3)  \n",
       " 4     L. James (4.7)  \n",
       " ..               ...  \n",
       " 82    G. Mikan (3.7)  \n",
       " 83               NaN  \n",
       " 84    G. Mikan (4.2)  \n",
       " 85  C. Simmons (2.5)  \n",
       " 86    J. Fulks (2.3)  \n",
       " \n",
       " [87 rows x 10 columns]]"
      ]
     },
     "metadata": {},
     "execution_count": 4
    }
   ],
   "source": [
    "tables = pd.read_html(url)\n",
    "tables"
   ]
  },
  {
   "cell_type": "code",
   "execution_count": 43,
   "metadata": {},
   "outputs": [
    {
     "output_type": "execute_result",
     "data": {
      "text/plain": [
       "   Unnamed: 0_level_0 Unnamed: 1_level_0                 Finals  \\\n",
       "                 Year                 Lg               Champion   \n",
       "0              2020.0                NBA     Los Angeles Lakers   \n",
       "1              2019.0                NBA        Toronto Raptors   \n",
       "2              2018.0                NBA  Golden State Warriors   \n",
       "3              2017.0                NBA  Golden State Warriors   \n",
       "4              2016.0                NBA    Cleveland Cavaliers   \n",
       "..                ...                ...                    ...   \n",
       "82             1950.0                NBA     Minneapolis Lakers   \n",
       "83                NaN                NaN                    NaN   \n",
       "84             1949.0                BAA     Minneapolis Lakers   \n",
       "85             1948.0                BAA      Baltimore Bullets   \n",
       "86             1947.0                BAA  Philadelphia Warriors   \n",
       "\n",
       "                                      Unnamed: 5_level_0  \\\n",
       "                Runner-Up  Finals MVP Unnamed: 5_level_1   \n",
       "0              Miami Heat    L. James                NaN   \n",
       "1   Golden State Warriors  K. Leonard                NaN   \n",
       "2     Cleveland Cavaliers   K. Durant                NaN   \n",
       "3     Cleveland Cavaliers   K. Durant                NaN   \n",
       "4   Golden State Warriors    L. James                NaN   \n",
       "..                    ...         ...                ...   \n",
       "82     Syracuse Nationals         NaN                NaN   \n",
       "83                    NaN         NaN                NaN   \n",
       "84    Washington Capitols         NaN                NaN   \n",
       "85  Philadelphia Warriors         NaN                NaN   \n",
       "86          Chicago Stags         NaN                NaN   \n",
       "\n",
       "   Playoffs Top Performers                                      \\\n",
       "                    Points        Rebounds             Assists   \n",
       "0           A. Davis (582)  L. James (226)      L. James (184)   \n",
       "1         K. Leonard (732)  D. Green (223)      D. Green (187)   \n",
       "2           L. James (748)  D. Green (222)      L. James (198)   \n",
       "3           L. James (591)   K. Love (191)      L. James (141)   \n",
       "4        K. Thompson (582)  D. Green (228)  R. Westbrook (198)   \n",
       "..                     ...             ...                 ...   \n",
       "82          G. Mikan (376)             NaN     J. Pollard (56)   \n",
       "83                     NaN             NaN                 NaN   \n",
       "84          G. Mikan (303)             NaN     J. Pollard (39)   \n",
       "85          J. Fulks (282)             NaN     H. Dallmar (37)   \n",
       "86          J. Fulks (222)             NaN     H. Dallmar (16)   \n",
       "\n",
       "                      \n",
       "          Win Shares  \n",
       "0     A. Davis (4.5)  \n",
       "1   K. Leonard (4.9)  \n",
       "2     L. James (5.2)  \n",
       "3     L. James (4.3)  \n",
       "4     L. James (4.7)  \n",
       "..               ...  \n",
       "82    G. Mikan (3.7)  \n",
       "83               NaN  \n",
       "84    G. Mikan (4.2)  \n",
       "85  C. Simmons (2.5)  \n",
       "86    J. Fulks (2.3)  \n",
       "\n",
       "[87 rows x 10 columns]"
      ],
      "text/html": "<div>\n<style scoped>\n    .dataframe tbody tr th:only-of-type {\n        vertical-align: middle;\n    }\n\n    .dataframe tbody tr th {\n        vertical-align: top;\n    }\n\n    .dataframe thead tr th {\n        text-align: left;\n    }\n</style>\n<table border=\"1\" class=\"dataframe\">\n  <thead>\n    <tr>\n      <th></th>\n      <th>Unnamed: 0_level_0</th>\n      <th>Unnamed: 1_level_0</th>\n      <th colspan=\"3\" halign=\"left\">Finals</th>\n      <th>Unnamed: 5_level_0</th>\n      <th colspan=\"4\" halign=\"left\">Playoffs Top Performers</th>\n    </tr>\n    <tr>\n      <th></th>\n      <th>Year</th>\n      <th>Lg</th>\n      <th>Champion</th>\n      <th>Runner-Up</th>\n      <th>Finals MVP</th>\n      <th>Unnamed: 5_level_1</th>\n      <th>Points</th>\n      <th>Rebounds</th>\n      <th>Assists</th>\n      <th>Win Shares</th>\n    </tr>\n  </thead>\n  <tbody>\n    <tr>\n      <th>0</th>\n      <td>2020.0</td>\n      <td>NBA</td>\n      <td>Los Angeles Lakers</td>\n      <td>Miami Heat</td>\n      <td>L. James</td>\n      <td>NaN</td>\n      <td>A. Davis (582)</td>\n      <td>L. James (226)</td>\n      <td>L. James (184)</td>\n      <td>A. Davis (4.5)</td>\n    </tr>\n    <tr>\n      <th>1</th>\n      <td>2019.0</td>\n      <td>NBA</td>\n      <td>Toronto Raptors</td>\n      <td>Golden State Warriors</td>\n      <td>K. Leonard</td>\n      <td>NaN</td>\n      <td>K. Leonard (732)</td>\n      <td>D. Green (223)</td>\n      <td>D. Green (187)</td>\n      <td>K. Leonard (4.9)</td>\n    </tr>\n    <tr>\n      <th>2</th>\n      <td>2018.0</td>\n      <td>NBA</td>\n      <td>Golden State Warriors</td>\n      <td>Cleveland Cavaliers</td>\n      <td>K. Durant</td>\n      <td>NaN</td>\n      <td>L. James (748)</td>\n      <td>D. Green (222)</td>\n      <td>L. James (198)</td>\n      <td>L. James (5.2)</td>\n    </tr>\n    <tr>\n      <th>3</th>\n      <td>2017.0</td>\n      <td>NBA</td>\n      <td>Golden State Warriors</td>\n      <td>Cleveland Cavaliers</td>\n      <td>K. Durant</td>\n      <td>NaN</td>\n      <td>L. James (591)</td>\n      <td>K. Love (191)</td>\n      <td>L. James (141)</td>\n      <td>L. James (4.3)</td>\n    </tr>\n    <tr>\n      <th>4</th>\n      <td>2016.0</td>\n      <td>NBA</td>\n      <td>Cleveland Cavaliers</td>\n      <td>Golden State Warriors</td>\n      <td>L. James</td>\n      <td>NaN</td>\n      <td>K. Thompson (582)</td>\n      <td>D. Green (228)</td>\n      <td>R. Westbrook (198)</td>\n      <td>L. James (4.7)</td>\n    </tr>\n    <tr>\n      <th>...</th>\n      <td>...</td>\n      <td>...</td>\n      <td>...</td>\n      <td>...</td>\n      <td>...</td>\n      <td>...</td>\n      <td>...</td>\n      <td>...</td>\n      <td>...</td>\n      <td>...</td>\n    </tr>\n    <tr>\n      <th>82</th>\n      <td>1950.0</td>\n      <td>NBA</td>\n      <td>Minneapolis Lakers</td>\n      <td>Syracuse Nationals</td>\n      <td>NaN</td>\n      <td>NaN</td>\n      <td>G. Mikan (376)</td>\n      <td>NaN</td>\n      <td>J. Pollard (56)</td>\n      <td>G. Mikan (3.7)</td>\n    </tr>\n    <tr>\n      <th>83</th>\n      <td>NaN</td>\n      <td>NaN</td>\n      <td>NaN</td>\n      <td>NaN</td>\n      <td>NaN</td>\n      <td>NaN</td>\n      <td>NaN</td>\n      <td>NaN</td>\n      <td>NaN</td>\n      <td>NaN</td>\n    </tr>\n    <tr>\n      <th>84</th>\n      <td>1949.0</td>\n      <td>BAA</td>\n      <td>Minneapolis Lakers</td>\n      <td>Washington Capitols</td>\n      <td>NaN</td>\n      <td>NaN</td>\n      <td>G. Mikan (303)</td>\n      <td>NaN</td>\n      <td>J. Pollard (39)</td>\n      <td>G. Mikan (4.2)</td>\n    </tr>\n    <tr>\n      <th>85</th>\n      <td>1948.0</td>\n      <td>BAA</td>\n      <td>Baltimore Bullets</td>\n      <td>Philadelphia Warriors</td>\n      <td>NaN</td>\n      <td>NaN</td>\n      <td>J. Fulks (282)</td>\n      <td>NaN</td>\n      <td>H. Dallmar (37)</td>\n      <td>C. Simmons (2.5)</td>\n    </tr>\n    <tr>\n      <th>86</th>\n      <td>1947.0</td>\n      <td>BAA</td>\n      <td>Philadelphia Warriors</td>\n      <td>Chicago Stags</td>\n      <td>NaN</td>\n      <td>NaN</td>\n      <td>J. Fulks (222)</td>\n      <td>NaN</td>\n      <td>H. Dallmar (16)</td>\n      <td>J. Fulks (2.3)</td>\n    </tr>\n  </tbody>\n</table>\n<p>87 rows × 10 columns</p>\n</div>"
     },
     "metadata": {},
     "execution_count": 43
    }
   ],
   "source": [
    "df = tables[0]\n",
    "df"
   ]
  },
  {
   "cell_type": "code",
   "execution_count": 11,
   "metadata": {},
   "outputs": [
    {
     "output_type": "execute_result",
     "data": {
      "text/plain": [
       "Unnamed: 0_level_0       Year                  float64\n",
       "Unnamed: 1_level_0       Lg                     object\n",
       "Finals                   Champion               object\n",
       "                         Runner-Up              object\n",
       "                         Finals MVP             object\n",
       "Unnamed: 5_level_0       Unnamed: 5_level_1    float64\n",
       "Playoffs Top Performers  Points                 object\n",
       "                         Rebounds               object\n",
       "                         Assists                object\n",
       "                         Win Shares             object\n",
       "dtype: object"
      ]
     },
     "metadata": {},
     "execution_count": 11
    }
   ],
   "source": [
    "df.dtypes"
   ]
  },
  {
   "cell_type": "code",
   "execution_count": 19,
   "metadata": {},
   "outputs": [
    {
     "output_type": "execute_result",
     "data": {
      "text/plain": [
       "FrozenList([None])"
      ]
     },
     "metadata": {},
     "execution_count": 19
    }
   ],
   "source": [
    "df.index.names"
   ]
  },
  {
   "cell_type": "code",
   "execution_count": 65,
   "metadata": {},
   "outputs": [
    {
     "output_type": "execute_result",
     "data": {
      "text/plain": [
       "   Unnamed: 0_level_0                 Finals\n",
       "                 Year               Champion\n",
       "0              2020.0     Los Angeles Lakers\n",
       "1              2019.0        Toronto Raptors\n",
       "2              2018.0  Golden State Warriors\n",
       "3              2017.0  Golden State Warriors\n",
       "4              2016.0    Cleveland Cavaliers\n",
       "5              2015.0  Golden State Warriors\n",
       "6              2014.0      San Antonio Spurs\n",
       "7              2013.0             Miami Heat\n",
       "8              2012.0             Miami Heat\n",
       "9              2011.0       Dallas Mavericks\n",
       "10             2010.0     Los Angeles Lakers\n",
       "11             2009.0     Los Angeles Lakers\n",
       "12             2008.0         Boston Celtics\n",
       "13             2007.0      San Antonio Spurs\n",
       "14             2006.0             Miami Heat\n",
       "15             2005.0      San Antonio Spurs"
      ],
      "text/html": "<div>\n<style scoped>\n    .dataframe tbody tr th:only-of-type {\n        vertical-align: middle;\n    }\n\n    .dataframe tbody tr th {\n        vertical-align: top;\n    }\n\n    .dataframe thead tr th {\n        text-align: left;\n    }\n</style>\n<table border=\"1\" class=\"dataframe\">\n  <thead>\n    <tr>\n      <th></th>\n      <th>Unnamed: 0_level_0</th>\n      <th>Finals</th>\n    </tr>\n    <tr>\n      <th></th>\n      <th>Year</th>\n      <th>Champion</th>\n    </tr>\n  </thead>\n  <tbody>\n    <tr>\n      <th>0</th>\n      <td>2020.0</td>\n      <td>Los Angeles Lakers</td>\n    </tr>\n    <tr>\n      <th>1</th>\n      <td>2019.0</td>\n      <td>Toronto Raptors</td>\n    </tr>\n    <tr>\n      <th>2</th>\n      <td>2018.0</td>\n      <td>Golden State Warriors</td>\n    </tr>\n    <tr>\n      <th>3</th>\n      <td>2017.0</td>\n      <td>Golden State Warriors</td>\n    </tr>\n    <tr>\n      <th>4</th>\n      <td>2016.0</td>\n      <td>Cleveland Cavaliers</td>\n    </tr>\n    <tr>\n      <th>5</th>\n      <td>2015.0</td>\n      <td>Golden State Warriors</td>\n    </tr>\n    <tr>\n      <th>6</th>\n      <td>2014.0</td>\n      <td>San Antonio Spurs</td>\n    </tr>\n    <tr>\n      <th>7</th>\n      <td>2013.0</td>\n      <td>Miami Heat</td>\n    </tr>\n    <tr>\n      <th>8</th>\n      <td>2012.0</td>\n      <td>Miami Heat</td>\n    </tr>\n    <tr>\n      <th>9</th>\n      <td>2011.0</td>\n      <td>Dallas Mavericks</td>\n    </tr>\n    <tr>\n      <th>10</th>\n      <td>2010.0</td>\n      <td>Los Angeles Lakers</td>\n    </tr>\n    <tr>\n      <th>11</th>\n      <td>2009.0</td>\n      <td>Los Angeles Lakers</td>\n    </tr>\n    <tr>\n      <th>12</th>\n      <td>2008.0</td>\n      <td>Boston Celtics</td>\n    </tr>\n    <tr>\n      <th>13</th>\n      <td>2007.0</td>\n      <td>San Antonio Spurs</td>\n    </tr>\n    <tr>\n      <th>14</th>\n      <td>2006.0</td>\n      <td>Miami Heat</td>\n    </tr>\n    <tr>\n      <th>15</th>\n      <td>2005.0</td>\n      <td>San Antonio Spurs</td>\n    </tr>\n  </tbody>\n</table>\n</div>"
     },
     "metadata": {},
     "execution_count": 65
    }
   ],
   "source": [
    "df = df[df.iloc[:,0] > 2004]\n",
    "winners = df.iloc[:,[0,2]]\n",
    "# winners['Finals'].value_counts()\n",
    "winners"
   ]
  },
  {
   "cell_type": "code",
   "execution_count": 66,
   "metadata": {},
   "outputs": [
    {
     "output_type": "execute_result",
     "data": {
      "text/plain": [
       "   Unnamed: 0_level_0                 Finals\n",
       "                 Year              Runner-Up\n",
       "0              2020.0             Miami Heat\n",
       "1              2019.0  Golden State Warriors\n",
       "2              2018.0    Cleveland Cavaliers\n",
       "3              2017.0    Cleveland Cavaliers\n",
       "4              2016.0  Golden State Warriors\n",
       "5              2015.0    Cleveland Cavaliers\n",
       "6              2014.0             Miami Heat\n",
       "7              2013.0      San Antonio Spurs\n",
       "8              2012.0  Oklahoma City Thunder\n",
       "9              2011.0             Miami Heat\n",
       "10             2010.0         Boston Celtics\n",
       "11             2009.0          Orlando Magic\n",
       "12             2008.0     Los Angeles Lakers\n",
       "13             2007.0    Cleveland Cavaliers\n",
       "14             2006.0       Dallas Mavericks\n",
       "15             2005.0        Detroit Pistons"
      ],
      "text/html": "<div>\n<style scoped>\n    .dataframe tbody tr th:only-of-type {\n        vertical-align: middle;\n    }\n\n    .dataframe tbody tr th {\n        vertical-align: top;\n    }\n\n    .dataframe thead tr th {\n        text-align: left;\n    }\n</style>\n<table border=\"1\" class=\"dataframe\">\n  <thead>\n    <tr>\n      <th></th>\n      <th>Unnamed: 0_level_0</th>\n      <th>Finals</th>\n    </tr>\n    <tr>\n      <th></th>\n      <th>Year</th>\n      <th>Runner-Up</th>\n    </tr>\n  </thead>\n  <tbody>\n    <tr>\n      <th>0</th>\n      <td>2020.0</td>\n      <td>Miami Heat</td>\n    </tr>\n    <tr>\n      <th>1</th>\n      <td>2019.0</td>\n      <td>Golden State Warriors</td>\n    </tr>\n    <tr>\n      <th>2</th>\n      <td>2018.0</td>\n      <td>Cleveland Cavaliers</td>\n    </tr>\n    <tr>\n      <th>3</th>\n      <td>2017.0</td>\n      <td>Cleveland Cavaliers</td>\n    </tr>\n    <tr>\n      <th>4</th>\n      <td>2016.0</td>\n      <td>Golden State Warriors</td>\n    </tr>\n    <tr>\n      <th>5</th>\n      <td>2015.0</td>\n      <td>Cleveland Cavaliers</td>\n    </tr>\n    <tr>\n      <th>6</th>\n      <td>2014.0</td>\n      <td>Miami Heat</td>\n    </tr>\n    <tr>\n      <th>7</th>\n      <td>2013.0</td>\n      <td>San Antonio Spurs</td>\n    </tr>\n    <tr>\n      <th>8</th>\n      <td>2012.0</td>\n      <td>Oklahoma City Thunder</td>\n    </tr>\n    <tr>\n      <th>9</th>\n      <td>2011.0</td>\n      <td>Miami Heat</td>\n    </tr>\n    <tr>\n      <th>10</th>\n      <td>2010.0</td>\n      <td>Boston Celtics</td>\n    </tr>\n    <tr>\n      <th>11</th>\n      <td>2009.0</td>\n      <td>Orlando Magic</td>\n    </tr>\n    <tr>\n      <th>12</th>\n      <td>2008.0</td>\n      <td>Los Angeles Lakers</td>\n    </tr>\n    <tr>\n      <th>13</th>\n      <td>2007.0</td>\n      <td>Cleveland Cavaliers</td>\n    </tr>\n    <tr>\n      <th>14</th>\n      <td>2006.0</td>\n      <td>Dallas Mavericks</td>\n    </tr>\n    <tr>\n      <th>15</th>\n      <td>2005.0</td>\n      <td>Detroit Pistons</td>\n    </tr>\n  </tbody>\n</table>\n</div>"
     },
     "metadata": {},
     "execution_count": 66
    }
   ],
   "source": [
    "df = df[df.iloc[:,0] > 2004]\n",
    "losers = df.iloc[:,[0,3]]\n",
    "# winners['Finals'].value_counts()\n",
    "losers"
   ]
  },
  {
   "cell_type": "code",
   "execution_count": null,
   "metadata": {},
   "outputs": [],
   "source": []
  }
 ]
}