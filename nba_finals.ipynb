{
 "cells": [
  {
   "cell_type": "code",
   "execution_count": 1,
   "metadata": {},
   "outputs": [],
   "source": [
    "import pandas as pd"
   ]
  },
  {
   "cell_type": "code",
   "execution_count": 2,
   "metadata": {},
   "outputs": [],
   "source": [
    "# get url for data scrape\n",
    "url = 'https://www.basketball-reference.com/playoffs/'"
   ]
  },
  {
   "cell_type": "code",
   "execution_count": 6,
   "metadata": {},
   "outputs": [
    {
     "output_type": "execute_result",
     "data": {
      "text/plain": [
       "[   Unnamed: 0_level_0 Unnamed: 1_level_0                 Finals  \\\n",
       "                  Year                 Lg               Champion   \n",
       " 0              2020.0                NBA     Los Angeles Lakers   \n",
       " 1              2019.0                NBA        Toronto Raptors   \n",
       " 2              2018.0                NBA  Golden State Warriors   \n",
       " 3              2017.0                NBA  Golden State Warriors   \n",
       " 4              2016.0                NBA    Cleveland Cavaliers   \n",
       " ..                ...                ...                    ...   \n",
       " 82             1950.0                NBA     Minneapolis Lakers   \n",
       " 83                NaN                NaN                    NaN   \n",
       " 84             1949.0                BAA     Minneapolis Lakers   \n",
       " 85             1948.0                BAA      Baltimore Bullets   \n",
       " 86             1947.0                BAA  Philadelphia Warriors   \n",
       " \n",
       "                                       Unnamed: 5_level_0  \\\n",
       "                 Runner-Up  Finals MVP Unnamed: 5_level_1   \n",
       " 0              Miami Heat    L. James                NaN   \n",
       " 1   Golden State Warriors  K. Leonard                NaN   \n",
       " 2     Cleveland Cavaliers   K. Durant                NaN   \n",
       " 3     Cleveland Cavaliers   K. Durant                NaN   \n",
       " 4   Golden State Warriors    L. James                NaN   \n",
       " ..                    ...         ...                ...   \n",
       " 82     Syracuse Nationals         NaN                NaN   \n",
       " 83                    NaN         NaN                NaN   \n",
       " 84    Washington Capitols         NaN                NaN   \n",
       " 85  Philadelphia Warriors         NaN                NaN   \n",
       " 86          Chicago Stags         NaN                NaN   \n",
       " \n",
       "    Playoffs Top Performers                                      \\\n",
       "                     Points        Rebounds             Assists   \n",
       " 0           A. Davis (582)  L. James (226)      L. James (184)   \n",
       " 1         K. Leonard (732)  D. Green (223)      D. Green (187)   \n",
       " 2           L. James (748)  D. Green (222)      L. James (198)   \n",
       " 3           L. James (591)   K. Love (191)      L. James (141)   \n",
       " 4        K. Thompson (582)  D. Green (228)  R. Westbrook (198)   \n",
       " ..                     ...             ...                 ...   \n",
       " 82          G. Mikan (376)             NaN     J. Pollard (56)   \n",
       " 83                     NaN             NaN                 NaN   \n",
       " 84          G. Mikan (303)             NaN     J. Pollard (39)   \n",
       " 85          J. Fulks (282)             NaN     H. Dallmar (37)   \n",
       " 86          J. Fulks (222)             NaN     H. Dallmar (16)   \n",
       " \n",
       "                       \n",
       "           Win Shares  \n",
       " 0     A. Davis (4.5)  \n",
       " 1   K. Leonard (4.9)  \n",
       " 2     L. James (5.2)  \n",
       " 3     L. James (4.3)  \n",
       " 4     L. James (4.7)  \n",
       " ..               ...  \n",
       " 82    G. Mikan (3.7)  \n",
       " 83               NaN  \n",
       " 84    G. Mikan (4.2)  \n",
       " 85  C. Simmons (2.5)  \n",
       " 86    J. Fulks (2.3)  \n",
       " \n",
       " [87 rows x 10 columns]]"
      ]
     },
     "metadata": {},
     "execution_count": 6
    }
   ],
   "source": [
    "# read tables from the url\n",
    "tables = pd.read_html(url)\n",
    "tables"
   ]
  },
  {
   "cell_type": "code",
   "execution_count": 7,
   "metadata": {},
   "outputs": [
    {
     "output_type": "execute_result",
     "data": {
      "text/plain": [
       "  Unnamed: 0_level_0 Unnamed: 1_level_0                 Finals  \\\n",
       "                Year                 Lg               Champion   \n",
       "0             2020.0                NBA     Los Angeles Lakers   \n",
       "1             2019.0                NBA        Toronto Raptors   \n",
       "2             2018.0                NBA  Golden State Warriors   \n",
       "3             2017.0                NBA  Golden State Warriors   \n",
       "4             2016.0                NBA    Cleveland Cavaliers   \n",
       "\n",
       "                                     Unnamed: 5_level_0  \\\n",
       "               Runner-Up  Finals MVP Unnamed: 5_level_1   \n",
       "0             Miami Heat    L. James                NaN   \n",
       "1  Golden State Warriors  K. Leonard                NaN   \n",
       "2    Cleveland Cavaliers   K. Durant                NaN   \n",
       "3    Cleveland Cavaliers   K. Durant                NaN   \n",
       "4  Golden State Warriors    L. James                NaN   \n",
       "\n",
       "  Playoffs Top Performers                                      \\\n",
       "                   Points        Rebounds             Assists   \n",
       "0          A. Davis (582)  L. James (226)      L. James (184)   \n",
       "1        K. Leonard (732)  D. Green (223)      D. Green (187)   \n",
       "2          L. James (748)  D. Green (222)      L. James (198)   \n",
       "3          L. James (591)   K. Love (191)      L. James (141)   \n",
       "4       K. Thompson (582)  D. Green (228)  R. Westbrook (198)   \n",
       "\n",
       "                     \n",
       "         Win Shares  \n",
       "0    A. Davis (4.5)  \n",
       "1  K. Leonard (4.9)  \n",
       "2    L. James (5.2)  \n",
       "3    L. James (4.3)  \n",
       "4    L. James (4.7)  "
      ],
      "text/html": "<div>\n<style scoped>\n    .dataframe tbody tr th:only-of-type {\n        vertical-align: middle;\n    }\n\n    .dataframe tbody tr th {\n        vertical-align: top;\n    }\n\n    .dataframe thead tr th {\n        text-align: left;\n    }\n</style>\n<table border=\"1\" class=\"dataframe\">\n  <thead>\n    <tr>\n      <th></th>\n      <th>Unnamed: 0_level_0</th>\n      <th>Unnamed: 1_level_0</th>\n      <th colspan=\"3\" halign=\"left\">Finals</th>\n      <th>Unnamed: 5_level_0</th>\n      <th colspan=\"4\" halign=\"left\">Playoffs Top Performers</th>\n    </tr>\n    <tr>\n      <th></th>\n      <th>Year</th>\n      <th>Lg</th>\n      <th>Champion</th>\n      <th>Runner-Up</th>\n      <th>Finals MVP</th>\n      <th>Unnamed: 5_level_1</th>\n      <th>Points</th>\n      <th>Rebounds</th>\n      <th>Assists</th>\n      <th>Win Shares</th>\n    </tr>\n  </thead>\n  <tbody>\n    <tr>\n      <th>0</th>\n      <td>2020.0</td>\n      <td>NBA</td>\n      <td>Los Angeles Lakers</td>\n      <td>Miami Heat</td>\n      <td>L. James</td>\n      <td>NaN</td>\n      <td>A. Davis (582)</td>\n      <td>L. James (226)</td>\n      <td>L. James (184)</td>\n      <td>A. Davis (4.5)</td>\n    </tr>\n    <tr>\n      <th>1</th>\n      <td>2019.0</td>\n      <td>NBA</td>\n      <td>Toronto Raptors</td>\n      <td>Golden State Warriors</td>\n      <td>K. Leonard</td>\n      <td>NaN</td>\n      <td>K. Leonard (732)</td>\n      <td>D. Green (223)</td>\n      <td>D. Green (187)</td>\n      <td>K. Leonard (4.9)</td>\n    </tr>\n    <tr>\n      <th>2</th>\n      <td>2018.0</td>\n      <td>NBA</td>\n      <td>Golden State Warriors</td>\n      <td>Cleveland Cavaliers</td>\n      <td>K. Durant</td>\n      <td>NaN</td>\n      <td>L. James (748)</td>\n      <td>D. Green (222)</td>\n      <td>L. James (198)</td>\n      <td>L. James (5.2)</td>\n    </tr>\n    <tr>\n      <th>3</th>\n      <td>2017.0</td>\n      <td>NBA</td>\n      <td>Golden State Warriors</td>\n      <td>Cleveland Cavaliers</td>\n      <td>K. Durant</td>\n      <td>NaN</td>\n      <td>L. James (591)</td>\n      <td>K. Love (191)</td>\n      <td>L. James (141)</td>\n      <td>L. James (4.3)</td>\n    </tr>\n    <tr>\n      <th>4</th>\n      <td>2016.0</td>\n      <td>NBA</td>\n      <td>Cleveland Cavaliers</td>\n      <td>Golden State Warriors</td>\n      <td>L. James</td>\n      <td>NaN</td>\n      <td>K. Thompson (582)</td>\n      <td>D. Green (228)</td>\n      <td>R. Westbrook (198)</td>\n      <td>L. James (4.7)</td>\n    </tr>\n  </tbody>\n</table>\n</div>"
     },
     "metadata": {},
     "execution_count": 7
    }
   ],
   "source": [
    "# put first table into a dataframe and check what columns are in each level\n",
    "df = tables[0]\n",
    "df.head()\n"
   ]
  },
  {
   "cell_type": "code",
   "execution_count": 8,
   "metadata": {},
   "outputs": [
    {
     "output_type": "execute_result",
     "data": {
      "text/plain": [
       "Index(['Unnamed: 0_level_0', 'Unnamed: 1_level_0', 'Finals', 'Finals',\n",
       "       'Finals', 'Unnamed: 5_level_0', 'Playoffs Top Performers',\n",
       "       'Playoffs Top Performers', 'Playoffs Top Performers',\n",
       "       'Playoffs Top Performers'],\n",
       "      dtype='object')"
      ]
     },
     "metadata": {},
     "execution_count": 8
    }
   ],
   "source": [
    "# this command was in Lecture 12, day 2, activity #9 & #10 to see what columns are at different levels\n",
    "df.columns.get_level_values(0)"
   ]
  },
  {
   "cell_type": "code",
   "execution_count": 9,
   "metadata": {},
   "outputs": [
    {
     "output_type": "execute_result",
     "data": {
      "text/plain": [
       "Index(['Year', 'Lg', 'Champion', 'Runner-Up', 'Finals MVP',\n",
       "       'Unnamed: 5_level_1', 'Points', 'Rebounds', 'Assists', 'Win Shares'],\n",
       "      dtype='object')"
      ]
     },
     "metadata": {},
     "execution_count": 9
    }
   ],
   "source": [
    "# checking next level if it has the column headers I want\n",
    "df.columns.get_level_values(1) "
   ]
  },
  {
   "cell_type": "code",
   "execution_count": 10,
   "metadata": {},
   "outputs": [
    {
     "output_type": "execute_result",
     "data": {
      "text/plain": [
       "     Year   Lg               Champion              Runner-Up  Finals MVP  \\\n",
       "0  2020.0  NBA     Los Angeles Lakers             Miami Heat    L. James   \n",
       "1  2019.0  NBA        Toronto Raptors  Golden State Warriors  K. Leonard   \n",
       "2  2018.0  NBA  Golden State Warriors    Cleveland Cavaliers   K. Durant   \n",
       "3  2017.0  NBA  Golden State Warriors    Cleveland Cavaliers   K. Durant   \n",
       "4  2016.0  NBA    Cleveland Cavaliers  Golden State Warriors    L. James   \n",
       "\n",
       "   Unnamed: 5_level_1             Points        Rebounds             Assists  \\\n",
       "0                 NaN     A. Davis (582)  L. James (226)      L. James (184)   \n",
       "1                 NaN   K. Leonard (732)  D. Green (223)      D. Green (187)   \n",
       "2                 NaN     L. James (748)  D. Green (222)      L. James (198)   \n",
       "3                 NaN     L. James (591)   K. Love (191)      L. James (141)   \n",
       "4                 NaN  K. Thompson (582)  D. Green (228)  R. Westbrook (198)   \n",
       "\n",
       "         Win Shares  \n",
       "0    A. Davis (4.5)  \n",
       "1  K. Leonard (4.9)  \n",
       "2    L. James (5.2)  \n",
       "3    L. James (4.3)  \n",
       "4    L. James (4.7)  "
      ],
      "text/html": "<div>\n<style scoped>\n    .dataframe tbody tr th:only-of-type {\n        vertical-align: middle;\n    }\n\n    .dataframe tbody tr th {\n        vertical-align: top;\n    }\n\n    .dataframe thead th {\n        text-align: right;\n    }\n</style>\n<table border=\"1\" class=\"dataframe\">\n  <thead>\n    <tr style=\"text-align: right;\">\n      <th></th>\n      <th>Year</th>\n      <th>Lg</th>\n      <th>Champion</th>\n      <th>Runner-Up</th>\n      <th>Finals MVP</th>\n      <th>Unnamed: 5_level_1</th>\n      <th>Points</th>\n      <th>Rebounds</th>\n      <th>Assists</th>\n      <th>Win Shares</th>\n    </tr>\n  </thead>\n  <tbody>\n    <tr>\n      <th>0</th>\n      <td>2020.0</td>\n      <td>NBA</td>\n      <td>Los Angeles Lakers</td>\n      <td>Miami Heat</td>\n      <td>L. James</td>\n      <td>NaN</td>\n      <td>A. Davis (582)</td>\n      <td>L. James (226)</td>\n      <td>L. James (184)</td>\n      <td>A. Davis (4.5)</td>\n    </tr>\n    <tr>\n      <th>1</th>\n      <td>2019.0</td>\n      <td>NBA</td>\n      <td>Toronto Raptors</td>\n      <td>Golden State Warriors</td>\n      <td>K. Leonard</td>\n      <td>NaN</td>\n      <td>K. Leonard (732)</td>\n      <td>D. Green (223)</td>\n      <td>D. Green (187)</td>\n      <td>K. Leonard (4.9)</td>\n    </tr>\n    <tr>\n      <th>2</th>\n      <td>2018.0</td>\n      <td>NBA</td>\n      <td>Golden State Warriors</td>\n      <td>Cleveland Cavaliers</td>\n      <td>K. Durant</td>\n      <td>NaN</td>\n      <td>L. James (748)</td>\n      <td>D. Green (222)</td>\n      <td>L. James (198)</td>\n      <td>L. James (5.2)</td>\n    </tr>\n    <tr>\n      <th>3</th>\n      <td>2017.0</td>\n      <td>NBA</td>\n      <td>Golden State Warriors</td>\n      <td>Cleveland Cavaliers</td>\n      <td>K. Durant</td>\n      <td>NaN</td>\n      <td>L. James (591)</td>\n      <td>K. Love (191)</td>\n      <td>L. James (141)</td>\n      <td>L. James (4.3)</td>\n    </tr>\n    <tr>\n      <th>4</th>\n      <td>2016.0</td>\n      <td>NBA</td>\n      <td>Cleveland Cavaliers</td>\n      <td>Golden State Warriors</td>\n      <td>L. James</td>\n      <td>NaN</td>\n      <td>K. Thompson (582)</td>\n      <td>D. Green (228)</td>\n      <td>R. Westbrook (198)</td>\n      <td>L. James (4.7)</td>\n    </tr>\n  </tbody>\n</table>\n</div>"
     },
     "metadata": {},
     "execution_count": 10
    }
   ],
   "source": [
    "# used droplevel to remove level at index 0. Once i ran it it was done and can't drop it again.\n",
    "df = df.droplevel(0, axis=1)\n",
    "df.head()"
   ]
  },
  {
   "cell_type": "code",
   "execution_count": 11,
   "metadata": {},
   "outputs": [
    {
     "output_type": "execute_result",
     "data": {
      "text/plain": [
       "     Year   Lg               Champion              Runner-Up  Finals MVP  \\\n",
       "0  2020.0  NBA     Los Angeles Lakers             Miami Heat    L. James   \n",
       "1  2019.0  NBA        Toronto Raptors  Golden State Warriors  K. Leonard   \n",
       "2  2018.0  NBA  Golden State Warriors    Cleveland Cavaliers   K. Durant   \n",
       "3  2017.0  NBA  Golden State Warriors    Cleveland Cavaliers   K. Durant   \n",
       "4  2016.0  NBA    Cleveland Cavaliers  Golden State Warriors    L. James   \n",
       "\n",
       "              Points        Rebounds             Assists        Win Shares  \n",
       "0     A. Davis (582)  L. James (226)      L. James (184)    A. Davis (4.5)  \n",
       "1   K. Leonard (732)  D. Green (223)      D. Green (187)  K. Leonard (4.9)  \n",
       "2     L. James (748)  D. Green (222)      L. James (198)    L. James (5.2)  \n",
       "3     L. James (591)   K. Love (191)      L. James (141)    L. James (4.3)  \n",
       "4  K. Thompson (582)  D. Green (228)  R. Westbrook (198)    L. James (4.7)  "
      ],
      "text/html": "<div>\n<style scoped>\n    .dataframe tbody tr th:only-of-type {\n        vertical-align: middle;\n    }\n\n    .dataframe tbody tr th {\n        vertical-align: top;\n    }\n\n    .dataframe thead th {\n        text-align: right;\n    }\n</style>\n<table border=\"1\" class=\"dataframe\">\n  <thead>\n    <tr style=\"text-align: right;\">\n      <th></th>\n      <th>Year</th>\n      <th>Lg</th>\n      <th>Champion</th>\n      <th>Runner-Up</th>\n      <th>Finals MVP</th>\n      <th>Points</th>\n      <th>Rebounds</th>\n      <th>Assists</th>\n      <th>Win Shares</th>\n    </tr>\n  </thead>\n  <tbody>\n    <tr>\n      <th>0</th>\n      <td>2020.0</td>\n      <td>NBA</td>\n      <td>Los Angeles Lakers</td>\n      <td>Miami Heat</td>\n      <td>L. James</td>\n      <td>A. Davis (582)</td>\n      <td>L. James (226)</td>\n      <td>L. James (184)</td>\n      <td>A. Davis (4.5)</td>\n    </tr>\n    <tr>\n      <th>1</th>\n      <td>2019.0</td>\n      <td>NBA</td>\n      <td>Toronto Raptors</td>\n      <td>Golden State Warriors</td>\n      <td>K. Leonard</td>\n      <td>K. Leonard (732)</td>\n      <td>D. Green (223)</td>\n      <td>D. Green (187)</td>\n      <td>K. Leonard (4.9)</td>\n    </tr>\n    <tr>\n      <th>2</th>\n      <td>2018.0</td>\n      <td>NBA</td>\n      <td>Golden State Warriors</td>\n      <td>Cleveland Cavaliers</td>\n      <td>K. Durant</td>\n      <td>L. James (748)</td>\n      <td>D. Green (222)</td>\n      <td>L. James (198)</td>\n      <td>L. James (5.2)</td>\n    </tr>\n    <tr>\n      <th>3</th>\n      <td>2017.0</td>\n      <td>NBA</td>\n      <td>Golden State Warriors</td>\n      <td>Cleveland Cavaliers</td>\n      <td>K. Durant</td>\n      <td>L. James (591)</td>\n      <td>K. Love (191)</td>\n      <td>L. James (141)</td>\n      <td>L. James (4.3)</td>\n    </tr>\n    <tr>\n      <th>4</th>\n      <td>2016.0</td>\n      <td>NBA</td>\n      <td>Cleveland Cavaliers</td>\n      <td>Golden State Warriors</td>\n      <td>L. James</td>\n      <td>K. Thompson (582)</td>\n      <td>D. Green (228)</td>\n      <td>R. Westbrook (198)</td>\n      <td>L. James (4.7)</td>\n    </tr>\n  </tbody>\n</table>\n</div>"
     },
     "metadata": {},
     "execution_count": 11
    }
   ],
   "source": [
    "# now that unamed row was removed, we now want to remove 'unnamed' columns with NaN values in the dataframe \n",
    "# found solution here: https://stackoverflow.com/questions/43983622/remove-unnamed-columns-in-pandas-dataframe/43983654 see 5 & 6\n",
    "df.rename({\"Unnamed: 5_level_1\":\"a\"}, axis=\"columns\", inplace=True)\n",
    "df.drop([\"a\"], axis=1, inplace=True)\n",
    "df.head"
   ]
  },
  {
   "cell_type": "code",
   "execution_count": 32,
   "metadata": {},
   "outputs": [],
   "source": [
    "# drop rows with NaN in them\n",
    "df = df.dropna()"
   ]
  },
  {
   "cell_type": "code",
   "execution_count": 36,
   "metadata": {},
   "outputs": [
    {
     "output_type": "execute_result",
     "data": {
      "text/plain": [
       "Year           int64\n",
       "Lg            object\n",
       "Champion      object\n",
       "Runner-Up     object\n",
       "Finals MVP    object\n",
       "Points        object\n",
       "Rebounds      object\n",
       "Assists       object\n",
       "Win Shares    object\n",
       "dtype: object"
      ]
     },
     "metadata": {},
     "execution_count": 36
    }
   ],
   "source": [
    "df.dtypes"
   ]
  },
  {
   "cell_type": "code",
   "execution_count": 35,
   "metadata": {},
   "outputs": [
    {
     "output_type": "stream",
     "name": "stderr",
     "text": [
      "<ipython-input-35-91b4af12fd7e>:1: SettingWithCopyWarning: \nA value is trying to be set on a copy of a slice from a DataFrame.\nTry using .loc[row_indexer,col_indexer] = value instead\n\nSee the caveats in the documentation: https://pandas.pydata.org/pandas-docs/stable/user_guide/indexing.html#returning-a-view-versus-a-copy\n  df['Year'] = df['Year'].astype(int)\n"
     ]
    }
   ],
   "source": [
    "df['Year'] = df['Year'].astype(int)"
   ]
  },
  {
   "cell_type": "code",
   "execution_count": 37,
   "metadata": {},
   "outputs": [
    {
     "output_type": "execute_result",
     "data": {
      "text/plain": [
       "   Year   Lg               Champion              Runner-Up  Finals MVP  \\\n",
       "0  2020  NBA     Los Angeles Lakers             Miami Heat    L. James   \n",
       "1  2019  NBA        Toronto Raptors  Golden State Warriors  K. Leonard   \n",
       "2  2018  NBA  Golden State Warriors    Cleveland Cavaliers   K. Durant   \n",
       "3  2017  NBA  Golden State Warriors    Cleveland Cavaliers   K. Durant   \n",
       "4  2016  NBA    Cleveland Cavaliers  Golden State Warriors    L. James   \n",
       "\n",
       "              Points        Rebounds             Assists        Win Shares  \n",
       "0     A. Davis (582)  L. James (226)      L. James (184)    A. Davis (4.5)  \n",
       "1   K. Leonard (732)  D. Green (223)      D. Green (187)  K. Leonard (4.9)  \n",
       "2     L. James (748)  D. Green (222)      L. James (198)    L. James (5.2)  \n",
       "3     L. James (591)   K. Love (191)      L. James (141)    L. James (4.3)  \n",
       "4  K. Thompson (582)  D. Green (228)  R. Westbrook (198)    L. James (4.7)  "
      ],
      "text/html": "<div>\n<style scoped>\n    .dataframe tbody tr th:only-of-type {\n        vertical-align: middle;\n    }\n\n    .dataframe tbody tr th {\n        vertical-align: top;\n    }\n\n    .dataframe thead th {\n        text-align: right;\n    }\n</style>\n<table border=\"1\" class=\"dataframe\">\n  <thead>\n    <tr style=\"text-align: right;\">\n      <th></th>\n      <th>Year</th>\n      <th>Lg</th>\n      <th>Champion</th>\n      <th>Runner-Up</th>\n      <th>Finals MVP</th>\n      <th>Points</th>\n      <th>Rebounds</th>\n      <th>Assists</th>\n      <th>Win Shares</th>\n    </tr>\n  </thead>\n  <tbody>\n    <tr>\n      <th>0</th>\n      <td>2020</td>\n      <td>NBA</td>\n      <td>Los Angeles Lakers</td>\n      <td>Miami Heat</td>\n      <td>L. James</td>\n      <td>A. Davis (582)</td>\n      <td>L. James (226)</td>\n      <td>L. James (184)</td>\n      <td>A. Davis (4.5)</td>\n    </tr>\n    <tr>\n      <th>1</th>\n      <td>2019</td>\n      <td>NBA</td>\n      <td>Toronto Raptors</td>\n      <td>Golden State Warriors</td>\n      <td>K. Leonard</td>\n      <td>K. Leonard (732)</td>\n      <td>D. Green (223)</td>\n      <td>D. Green (187)</td>\n      <td>K. Leonard (4.9)</td>\n    </tr>\n    <tr>\n      <th>2</th>\n      <td>2018</td>\n      <td>NBA</td>\n      <td>Golden State Warriors</td>\n      <td>Cleveland Cavaliers</td>\n      <td>K. Durant</td>\n      <td>L. James (748)</td>\n      <td>D. Green (222)</td>\n      <td>L. James (198)</td>\n      <td>L. James (5.2)</td>\n    </tr>\n    <tr>\n      <th>3</th>\n      <td>2017</td>\n      <td>NBA</td>\n      <td>Golden State Warriors</td>\n      <td>Cleveland Cavaliers</td>\n      <td>K. Durant</td>\n      <td>L. James (591)</td>\n      <td>K. Love (191)</td>\n      <td>L. James (141)</td>\n      <td>L. James (4.3)</td>\n    </tr>\n    <tr>\n      <th>4</th>\n      <td>2016</td>\n      <td>NBA</td>\n      <td>Cleveland Cavaliers</td>\n      <td>Golden State Warriors</td>\n      <td>L. James</td>\n      <td>K. Thompson (582)</td>\n      <td>D. Green (228)</td>\n      <td>R. Westbrook (198)</td>\n      <td>L. James (4.7)</td>\n    </tr>\n  </tbody>\n</table>\n</div>"
     },
     "metadata": {},
     "execution_count": 37
    }
   ],
   "source": [
    "df.head()"
   ]
  },
  {
   "cell_type": "code",
   "execution_count": null,
   "metadata": {},
   "outputs": [],
   "source": [
    "df = df[df.iloc[:,0] > 2004]\n",
    "winners = df.iloc[:,[0,2]]\n",
    "# winners['Finals'].value_counts()\n",
    "winners"
   ]
  },
  {
   "cell_type": "code",
   "execution_count": null,
   "metadata": {},
   "outputs": [],
   "source": [
    "df = df[df.iloc[:,0] > 2004]\n",
    "losers = df.iloc[:,[0,3]]\n",
    "# winners['Finals'].value_counts()\n",
    "losers"
   ]
  },
  {
   "cell_type": "code",
   "execution_count": null,
   "metadata": {},
   "outputs": [],
   "source": []
  }
 ],
 "metadata": {
  "kernelspec": {
   "display_name": "Python 3",
   "language": "python",
   "name": "python3"
  },
  "language_info": {
   "codemirror_mode": {
    "name": "ipython",
    "version": 3
   },
   "file_extension": ".py",
   "mimetype": "text/x-python",
   "name": "python",
   "nbconvert_exporter": "python",
   "pygments_lexer": "ipython3",
   "version": "3.8.5-final"
  }
 },
 "nbformat": 4,
 "nbformat_minor": 4
}