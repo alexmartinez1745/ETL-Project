{
 "metadata": {
  "language_info": {
   "codemirror_mode": {
    "name": "ipython",
    "version": 3
   },
   "file_extension": ".py",
   "mimetype": "text/x-python",
   "name": "python",
   "nbconvert_exporter": "python",
   "pygments_lexer": "ipython3",
   "version": "3.6.10-final"
  },
  "orig_nbformat": 2,
  "kernelspec": {
   "name": "python3",
   "display_name": "Python 3.6.10 64-bit ('PythonData': conda)",
   "metadata": {
    "interpreter": {
     "hash": "39cf81ff75551f3ea7268a5731633db08a0e59f6bdbd7d1519c41c672b5e67ae"
    }
   }
  }
 },
 "nbformat": 4,
 "nbformat_minor": 2,
 "cells": [
  {
   "cell_type": "code",
   "execution_count": 1,
   "metadata": {},
   "outputs": [],
   "source": [
    "import pandas as pd"
   ]
  },
  {
   "cell_type": "code",
   "execution_count": 2,
   "metadata": {},
   "outputs": [],
   "source": [
    "url = 'https://www.basketball-reference.com/playoffs/'"
   ]
  },
  {
   "cell_type": "code",
   "execution_count": 4,
   "metadata": {},
   "outputs": [
    {
     "output_type": "execute_result",
     "data": {
      "text/plain": [
       "[   Unnamed: 0_level_0 Unnamed: 1_level_0                 Finals  \\\n",
       "                  Year                 Lg               Champion   \n",
       " 0              2020.0                NBA     Los Angeles Lakers   \n",
       " 1              2019.0                NBA        Toronto Raptors   \n",
       " 2              2018.0                NBA  Golden State Warriors   \n",
       " 3              2017.0                NBA  Golden State Warriors   \n",
       " 4              2016.0                NBA    Cleveland Cavaliers   \n",
       " ..                ...                ...                    ...   \n",
       " 82             1950.0                NBA     Minneapolis Lakers   \n",
       " 83                NaN                NaN                    NaN   \n",
       " 84             1949.0                BAA     Minneapolis Lakers   \n",
       " 85             1948.0                BAA      Baltimore Bullets   \n",
       " 86             1947.0                BAA  Philadelphia Warriors   \n",
       " \n",
       "                                       Unnamed: 5_level_0  \\\n",
       "                 Runner-Up  Finals MVP Unnamed: 5_level_1   \n",
       " 0              Miami Heat    L. James                NaN   \n",
       " 1   Golden State Warriors  K. Leonard                NaN   \n",
       " 2     Cleveland Cavaliers   K. Durant                NaN   \n",
       " 3     Cleveland Cavaliers   K. Durant                NaN   \n",
       " 4   Golden State Warriors    L. James                NaN   \n",
       " ..                    ...         ...                ...   \n",
       " 82     Syracuse Nationals         NaN                NaN   \n",
       " 83                    NaN         NaN                NaN   \n",
       " 84    Washington Capitols         NaN                NaN   \n",
       " 85  Philadelphia Warriors         NaN                NaN   \n",
       " 86          Chicago Stags         NaN                NaN   \n",
       " \n",
       "    Playoffs Top Performers                                      \\\n",
       "                     Points        Rebounds             Assists   \n",
       " 0           A. Davis (582)  L. James (226)      L. James (184)   \n",
       " 1         K. Leonard (732)  D. Green (223)      D. Green (187)   \n",
       " 2           L. James (748)  D. Green (222)      L. James (198)   \n",
       " 3           L. James (591)   K. Love (191)      L. James (141)   \n",
       " 4        K. Thompson (582)  D. Green (228)  R. Westbrook (198)   \n",
       " ..                     ...             ...                 ...   \n",
       " 82          G. Mikan (376)             NaN     J. Pollard (56)   \n",
       " 83                     NaN             NaN                 NaN   \n",
       " 84          G. Mikan (303)             NaN     J. Pollard (39)   \n",
       " 85          J. Fulks (282)             NaN     H. Dallmar (37)   \n",
       " 86          J. Fulks (222)             NaN     H. Dallmar (16)   \n",
       " \n",
       "                       \n",
       "           Win Shares  \n",
       " 0     A. Davis (4.5)  \n",
       " 1   K. Leonard (4.9)  \n",
       " 2     L. James (5.2)  \n",
       " 3     L. James (4.3)  \n",
       " 4     L. James (4.7)  \n",
       " ..               ...  \n",
       " 82    G. Mikan (3.7)  \n",
       " 83               NaN  \n",
       " 84    G. Mikan (4.2)  \n",
       " 85  C. Simmons (2.5)  \n",
       " 86    J. Fulks (2.3)  \n",
       " \n",
       " [87 rows x 10 columns]]"
      ]
     },
     "metadata": {},
     "execution_count": 4
    }
   ],
   "source": [
    "tables = pd.read_html(url)\n",
    "tables"
   ]
  },
  {
   "cell_type": "code",
   "execution_count": 5,
   "metadata": {},
   "outputs": [
    {
     "output_type": "execute_result",
     "data": {
      "text/plain": [
       "[   Unnamed: 0_level_0 Unnamed: 1_level_0                 Finals  \\\n",
       "                  Year                 Lg               Champion   \n",
       " 0              2020.0                NBA     Los Angeles Lakers   \n",
       " 1              2019.0                NBA        Toronto Raptors   \n",
       " 2              2018.0                NBA  Golden State Warriors   \n",
       " 3              2017.0                NBA  Golden State Warriors   \n",
       " 4              2016.0                NBA    Cleveland Cavaliers   \n",
       " ..                ...                ...                    ...   \n",
       " 82             1950.0                NBA     Minneapolis Lakers   \n",
       " 83                NaN                NaN                    NaN   \n",
       " 84             1949.0                BAA     Minneapolis Lakers   \n",
       " 85             1948.0                BAA      Baltimore Bullets   \n",
       " 86             1947.0                BAA  Philadelphia Warriors   \n",
       " \n",
       "                                       Unnamed: 5_level_0  \\\n",
       "                 Runner-Up  Finals MVP Unnamed: 5_level_1   \n",
       " 0              Miami Heat    L. James                NaN   \n",
       " 1   Golden State Warriors  K. Leonard                NaN   \n",
       " 2     Cleveland Cavaliers   K. Durant                NaN   \n",
       " 3     Cleveland Cavaliers   K. Durant                NaN   \n",
       " 4   Golden State Warriors    L. James                NaN   \n",
       " ..                    ...         ...                ...   \n",
       " 82     Syracuse Nationals         NaN                NaN   \n",
       " 83                    NaN         NaN                NaN   \n",
       " 84    Washington Capitols         NaN                NaN   \n",
       " 85  Philadelphia Warriors         NaN                NaN   \n",
       " 86          Chicago Stags         NaN                NaN   \n",
       " \n",
       "    Playoffs Top Performers                                      \\\n",
       "                     Points        Rebounds             Assists   \n",
       " 0           A. Davis (582)  L. James (226)      L. James (184)   \n",
       " 1         K. Leonard (732)  D. Green (223)      D. Green (187)   \n",
       " 2           L. James (748)  D. Green (222)      L. James (198)   \n",
       " 3           L. James (591)   K. Love (191)      L. James (141)   \n",
       " 4        K. Thompson (582)  D. Green (228)  R. Westbrook (198)   \n",
       " ..                     ...             ...                 ...   \n",
       " 82          G. Mikan (376)             NaN     J. Pollard (56)   \n",
       " 83                     NaN             NaN                 NaN   \n",
       " 84          G. Mikan (303)             NaN     J. Pollard (39)   \n",
       " 85          J. Fulks (282)             NaN     H. Dallmar (37)   \n",
       " 86          J. Fulks (222)             NaN     H. Dallmar (16)   \n",
       " \n",
       "                       \n",
       "           Win Shares  \n",
       " 0     A. Davis (4.5)  \n",
       " 1   K. Leonard (4.9)  \n",
       " 2     L. James (5.2)  \n",
       " 3     L. James (4.3)  \n",
       " 4     L. James (4.7)  \n",
       " ..               ...  \n",
       " 82    G. Mikan (3.7)  \n",
       " 83               NaN  \n",
       " 84    G. Mikan (4.2)  \n",
       " 85  C. Simmons (2.5)  \n",
       " 86    J. Fulks (2.3)  \n",
       " \n",
       " [87 rows x 10 columns]]"
      ]
     },
     "metadata": {},
     "execution_count": 5
    }
   ],
   "source": [
    "df = tables\n",
    "df"
   ]
  },
  {
   "cell_type": "code",
   "execution_count": null,
   "metadata": {},
   "outputs": [],
   "source": []
  }
 ]
}